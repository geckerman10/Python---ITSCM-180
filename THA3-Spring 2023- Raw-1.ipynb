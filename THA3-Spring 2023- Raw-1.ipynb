{
 "cells": [
  {
   "cell_type": "markdown",
   "metadata": {},
   "source": [
    "## Problem 1\n",
    "\n",
    "Download the 'quotes.txt' file from the following link and add it to your directory folder. The file contains more than 39000 quotes from public figures, one per each line.\n",
    "<br>https://tinyurl.com/ycknkv9z\n",
    "\n",
    "Prompt the user to enter a search keyword. Then only for the quotes containing that keyword create a python dictionary with the public figure names as the keys and their quote as the value. Then print out the search result dictionary.\n",
    "\n",
    "**Hint**:The name of each public figure starts at the beginning of each line and is separated from the quote using a **tab character**. Therefore if you split each line using **'\\t'** as the delimiter, the first word of the resulted list is the full name of public figure.\n",
    "\n",
    "<br>**Note**:Make sure to open the txt file with the **encoding=\"utf-8\"** argument inside the **open** function to avoid any errors in reading the file.\n",
    "\n",
    "<br> **Example**:\n",
    "Enter a search keyword: hot dog\n",
    "<br>{'Dwight D. Eisenhower': 'Some people wanted champagne and caviar when they should have had beer and hot dogs.', 'Godfrey Gao': 'I like Taiwanese food, of course. I like baguettes, especially the ones that my dad buys. Vancouver has a lot of variety, with pizza, hot dogs, Italian, Indian, seafood - a great combination of culture.', 'Homaro Cantu': \"From food trucks to hot dog stands to county fair favorites, 'street food' has enjoyed a rich and storied history in American cuisine. However, street food has been around for thousands of years. In fact, street food is believed to have originated as far back as Ancient Rome.\"}\n",
    "\n"
   ]
  },
  {
   "cell_type": "code",
   "execution_count": null,
   "metadata": {},
   "outputs": [],
   "source": []
  },
  {
   "cell_type": "markdown",
   "metadata": {},
   "source": [
    "## Problem 2\n",
    "\n",
    "Rewrite the program from Problem 1. This time, for the user-provided search keyword create a **python list** of all public figures with at least one quote containing that keyword. Make sure that each name appears only once in the list, even if there are multiple quotes from the same person containing that keyword. \n",
    "\n",
    "<br> Example:\n",
    "<br>Enter a search keyword: burger\n",
    "<br>The following public figures have quotes containing your keyword: ['Aleksey Igudesman', 'Bridget Hall', 'Charles Kuralt', 'Clive James', 'Dusty Baker', 'Ferran Adria', 'Gabriel Iglesias', 'Gal Gadot', 'Grant Achatz', 'Herb Caen', 'Herman Cain', 'Homaro Cantu', 'Jessica Capshaw', 'Jim Cantalupo', 'Jose Garces']"
   ]
  },
  {
   "cell_type": "code",
   "execution_count": null,
   "metadata": {},
   "outputs": [],
   "source": []
  }
 ],
 "metadata": {
  "kernelspec": {
   "display_name": "Python 3 (ipykernel)",
   "language": "python",
   "name": "python3"
  },
  "language_info": {
   "codemirror_mode": {
    "name": "ipython",
    "version": 3
   },
   "file_extension": ".py",
   "mimetype": "text/x-python",
   "name": "python",
   "nbconvert_exporter": "python",
   "pygments_lexer": "ipython3",
   "version": "3.9.13"
  }
 },
 "nbformat": 4,
 "nbformat_minor": 2
}
