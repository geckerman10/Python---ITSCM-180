{
 "cells": [
  {
   "cell_type": "markdown",
   "metadata": {},
   "source": [
    "## Exercise 1.1\n",
    "\n",
    "Make a Python class called **Car**. The __init()__ method for Car should store three attributes: make, model, and year. Also, set odometer at 0 for every new car instance constructed.\n",
    "<br>For the Car class, write a method called **trip** that gets distance of each trip driven by a car object and updates the car odometer."
   ]
  },
  {
   "cell_type": "code",
   "execution_count": 31,
   "metadata": {},
   "outputs": [],
   "source": [
    "class Car:\n",
    "    #initialize the odometer at 0\n",
    "    odometer=0\n",
    "\n",
    "    #define the init method to get make model and year\n",
    "    def __init__(self,mk='Unknown',mo='Unknown',yr='Unknown'):\n",
    "        self.make=mk\n",
    "        self.model=mo\n",
    "        self.year=yr\n",
    "        print('A new car object was constricted',self.make,self.model,self.year)\n",
    "\n",
    "    #define trip method to update the odometer\n",
    "    def trip(self,dist):\n",
    "        self.odometer+=dist\n",
    "        print('The current car milage is',self.odometer,'miles')"
   ]
  },
  {
   "cell_type": "markdown",
   "metadata": {},
   "source": [
    "## Exercise 1.2\n",
    "\n",
    "Now create a new instance called my car, with the following attributes: Nissan, Rogue, 2017.\n",
    "Add two trips of 22 and 16 miles to its odometer using the trip() method."
   ]
  },
  {
   "cell_type": "code",
   "execution_count": 9,
   "metadata": {},
   "outputs": [
    {
     "name": "stdout",
     "output_type": "stream",
     "text": [
      "A new car object was constricted Nissan Rougue 2017\n"
     ]
    }
   ],
   "source": [
    "mycar=Car('Nissan','Rougue',2017)"
   ]
  },
  {
   "cell_type": "code",
   "execution_count": 11,
   "metadata": {},
   "outputs": [
    {
     "name": "stdout",
     "output_type": "stream",
     "text": [
      "The current car milage is 16 miles\n"
     ]
    }
   ],
   "source": [
    "mycar.trip(16)"
   ]
  },
  {
   "cell_type": "code",
   "execution_count": 17,
   "metadata": {},
   "outputs": [
    {
     "name": "stdout",
     "output_type": "stream",
     "text": [
      "The current car milage is 38 miles\n"
     ]
    }
   ],
   "source": [
    "mycar.trip(22)"
   ]
  },
  {
   "cell_type": "code",
   "execution_count": 19,
   "metadata": {},
   "outputs": [
    {
     "data": {
      "text/plain": [
       "'Nissan'"
      ]
     },
     "execution_count": 19,
     "metadata": {},
     "output_type": "execute_result"
    }
   ],
   "source": [
    "mycar.make"
   ]
  },
  {
   "cell_type": "code",
   "execution_count": 35,
   "metadata": {},
   "outputs": [
    {
     "name": "stdout",
     "output_type": "stream",
     "text": [
      "A new car object was constricted Unknown Unknown Unknown\n"
     ]
    }
   ],
   "source": [
    "yourcar=Car()"
   ]
  },
  {
   "cell_type": "markdown",
   "metadata": {},
   "source": [
    "## Exercise 2.1\n",
    "\n",
    "Make a new class called **Electric_Car** which posses all the methods and attributes of the **Car** class. In addition set a new attribute called charge_count that starts from 0 for any newly constructed electric car. \n",
    "<br>Write a new method called charge() that each time we call it for a given electric car, updates the charge_count by adding 1 unit."
   ]
  },
  {
   "cell_type": "code",
   "execution_count": 51,
   "metadata": {},
   "outputs": [],
   "source": [
    "class Electric_Car(Car):\n",
    "    #each electric car has an attribute called charge count to track battery\n",
    "    chargecount=0\n",
    "\n",
    "    #define a charge method to update the charge count\n",
    "    def charge(self):\n",
    "        self.chargecount+=1\n",
    "        print('The total charge count so far is',self.chargecount)"
   ]
  },
  {
   "cell_type": "markdown",
   "metadata": {},
   "source": [
    "## Exercise 2.2\n",
    "\n",
    "Now construct a new electric car instance with following attributes: Make: Tesla; Model: s; Year: 2018.\n",
    "<br> Call the trip() method to update odometer with a trip of 200 miles. Also call the charge() method to update the charge count twice. "
   ]
  },
  {
   "cell_type": "code",
   "execution_count": 53,
   "metadata": {},
   "outputs": [
    {
     "name": "stdout",
     "output_type": "stream",
     "text": [
      "A new car object was constricted Tesla S 2018\n"
     ]
    }
   ],
   "source": [
    "ecar=Electric_Car('Tesla','S',2018)"
   ]
  },
  {
   "cell_type": "code",
   "execution_count": 55,
   "metadata": {},
   "outputs": [
    {
     "name": "stdout",
     "output_type": "stream",
     "text": [
      "The current car milage is 200 miles\n"
     ]
    }
   ],
   "source": [
    "ecar.trip(200)"
   ]
  },
  {
   "cell_type": "code",
   "execution_count": 59,
   "metadata": {},
   "outputs": [
    {
     "name": "stdout",
     "output_type": "stream",
     "text": [
      "The total charge count so far is 1\n"
     ]
    }
   ],
   "source": [
    "ecar.charge()"
   ]
  },
  {
   "cell_type": "code",
   "execution_count": 61,
   "metadata": {},
   "outputs": [
    {
     "name": "stdout",
     "output_type": "stream",
     "text": [
      "The total charge count so far is 2\n"
     ]
    }
   ],
   "source": [
    "ecar.charge()"
   ]
  },
  {
   "cell_type": "markdown",
   "metadata": {},
   "source": [
    "## Assignment 1\n",
    "\n",
    "Make a class called **Restaurant**. The __init__() method for Restaurant should store two attributes: a **restaurant_name** and a **cuisine_type**. Make an attribute called meals_served in the class which starts at 0 for each new restaurant instance. Make a method called order() that gets the number of meals(order size) in a given order and updates the meals_served attribute, then prints the current total number of meals served so far.\n",
    "\n",
    "Then create two new instances(objects) with the following attributes: (Chipotle,Mexican) for restaurant1 and (Taj Mahal,Indian) for restaurant2; and call the order() method once for each instance with order sizes of 4 and 3 meals, respectively.\n",
    "\n",
    "Expected Output:\n",
    "<br>A new restaurant is created called Chipotle which serves Mexican food\n",
    "<br>A new restaurant is created called Taj Mahal which serves Indian food\n",
    "<br>Total meals served so far in Chipotle is: 4\n",
    "<br>Total meals served so far in Taj Mahal is: 3"
   ]
  },
  {
   "cell_type": "code",
   "execution_count": 21,
   "metadata": {},
   "outputs": [],
   "source": [
    "class Restaurant:\n",
    "    ms=0 #the number of meals served\n",
    "\n",
    "    def __init__(self,n,c):\n",
    "        self.name=n\n",
    "        self.cusine=c\n",
    "        print('A new Restaurant object was constructed called',self.name,'which serves',self.cusine,'food')\n",
    "        #this will automatically be exectuted when a new object is created\n",
    "\n",
    "    #count the number of meals served\n",
    "    def order(self,os):\n",
    "        self.ms += os\n",
    "        print('Total meals served so far in',self.name,'is',self.ms)"
   ]
  },
  {
   "cell_type": "code",
   "execution_count": 23,
   "metadata": {},
   "outputs": [
    {
     "name": "stdout",
     "output_type": "stream",
     "text": [
      "A new Restaurant object was constructed called Chipotle which serves Mexican food\n"
     ]
    }
   ],
   "source": [
    "restaurant1=Restaurant('Chipotle','Mexican')"
   ]
  },
  {
   "cell_type": "code",
   "execution_count": 25,
   "metadata": {},
   "outputs": [
    {
     "name": "stdout",
     "output_type": "stream",
     "text": [
      "A new Restaurant object was constructed called Taj Mahal which serves Indian food\n"
     ]
    }
   ],
   "source": [
    "restaurant2=Restaurant('Taj Mahal','Indian')"
   ]
  },
  {
   "cell_type": "code",
   "execution_count": 27,
   "metadata": {},
   "outputs": [
    {
     "name": "stdout",
     "output_type": "stream",
     "text": [
      "Total meals served so far in Chipotle is 4\n"
     ]
    }
   ],
   "source": [
    "restaurant1.order(4)"
   ]
  },
  {
   "cell_type": "code",
   "execution_count": 29,
   "metadata": {},
   "outputs": [
    {
     "name": "stdout",
     "output_type": "stream",
     "text": [
      "Total meals served so far in Taj Mahal is 3\n"
     ]
    }
   ],
   "source": [
    "restaurant2.order(3)"
   ]
  },
  {
   "cell_type": "markdown",
   "metadata": {},
   "source": [
    "## Assignment 2\n",
    "\n",
    "Make a new class called **Buffet** which posses all the methods and attributes of the **Restaurant** class. In addition, define a new attribute called people_served that sets at 0 for each newly constructed object. Also, make a method called ppl() that gets the number of people served on each table and updates the people_served attribute accordingly. Then prints the total number of people served so far.\n",
    "\n",
    "Construct a new buffet object with *Milano* as name and *Italian* as cuisine type, then call the *order()* method with an order size of 10 meals as well as the *ppl()* method with a table size of 6 people."
   ]
  },
  {
   "cell_type": "code",
   "execution_count": 49,
   "metadata": {},
   "outputs": [],
   "source": [
    "class Buffet(Restaurant):\n",
    "    ps=0\n",
    "    #create the buffet type with the addition of the people served metric\n",
    "    def ppl(self,people):\n",
    "        self.ps+=people\n",
    "        print('Restaurant has served',self.ps,'people')"
   ]
  },
  {
   "cell_type": "code",
   "execution_count": 43,
   "metadata": {},
   "outputs": [
    {
     "name": "stdout",
     "output_type": "stream",
     "text": [
      "A new Restaurant object was constructed called Milano which serves Italian food\n"
     ]
    }
   ],
   "source": [
    "restaurant3=Buffet('Milano','Italian')"
   ]
  },
  {
   "cell_type": "code",
   "execution_count": 45,
   "metadata": {},
   "outputs": [
    {
     "name": "stdout",
     "output_type": "stream",
     "text": [
      "Total meals served so far in Milano is 10\n"
     ]
    }
   ],
   "source": [
    "restaurant3.order(10)"
   ]
  },
  {
   "cell_type": "code",
   "execution_count": 47,
   "metadata": {},
   "outputs": [
    {
     "name": "stdout",
     "output_type": "stream",
     "text": [
      "Restaurant has served 6 people\n"
     ]
    }
   ],
   "source": [
    "restaurant3.ppl(6)"
   ]
  }
 ],
 "metadata": {
  "kernelspec": {
   "display_name": "Python 3 (ipykernel)",
   "language": "python",
   "name": "python3"
  },
  "language_info": {
   "codemirror_mode": {
    "name": "ipython",
    "version": 3
   },
   "file_extension": ".py",
   "mimetype": "text/x-python",
   "name": "python",
   "nbconvert_exporter": "python",
   "pygments_lexer": "ipython3",
   "version": "3.12.4"
  }
 },
 "nbformat": 4,
 "nbformat_minor": 4
}
