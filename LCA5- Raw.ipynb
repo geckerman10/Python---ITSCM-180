{
 "cells": [
  {
   "cell_type": "markdown",
   "metadata": {},
   "source": [
    "## Exercise 1\n",
    "\n",
    "Write a program that gets the first line of an email message and, based on the <font color=blue>host domain</font> of the sender's address, determines whether it is an Internal or External email:\n",
    "<br>- If the domain is uww.edu it is considered 'Internal Email', otherwise print the message 'External Email' on the screen.\n",
    "<br><br>Example1: \n",
    "<br>Paste the first line of email here: From stephen.marquard@<font color=blue>**uct.ac.za**</font> Sat Jan  5 2019 09:14:16\n",
    "<br>host: uct.ac.za\n",
    "<br>External Email\n",
    "<br><br>Example2: \n",
    "<br>Paste the first line of email here: From davazdab@<font color=blue>**uww.edu**</font> Sun Mar 23 2020 19:24:46\n",
    "<br>host: uww.edu\n",
    "<br>Internal Email"
   ]
  },
  {
   "cell_type": "code",
   "execution_count": null,
   "metadata": {},
   "outputs": [],
   "source": []
  },
  {
   "cell_type": "markdown",
   "metadata": {},
   "source": [
    "## Exercise 2\n",
    "\n",
    "Write a Python program that iteratively accepts 5 trip distances from the user. Each distance can be entered in kilometers (ending with \"km\") or miles (ending with \"mi\"). At the end, the program should convert all distances to miles and print the total distance in miles.\n",
    "\n",
    "Use the conversion:\n",
    "1 kilometer = 0.62 miles\n",
    "\n",
    "Example:\n",
    "<br>Enter a trip distance(e.g., 10km or 5mi): 10.5km\n",
    "<br>Enter a trip distance(e.g., 10km or 5mi): 6mi\n",
    "<br>Enter a trip distance(e.g., 10km or 5mi): 15km\n",
    "<br>Enter a trip distance(e.g., 10km or 5mi): 8km\n",
    "<br>Enter a trip distance(e.g., 10km or 5mi): 3.5mi\n",
    "<br>Total distance in miles is: 30.27"
   ]
  },
  {
   "cell_type": "code",
   "execution_count": null,
   "metadata": {},
   "outputs": [],
   "source": []
  },
  {
   "cell_type": "markdown",
   "metadata": {},
   "source": [
    "## Assignment 1\n",
    "\n",
    "Write a program that prompts the user to enter his/her first name, last name, and year of birth in a single input (in the format: **fn ln;yyyy**), then calculates the age and show it to him/her in the following format (see Example).\n",
    "<br>**Note:** Make sure to **capitalize** the first name for using it in the output message. \n",
    "<br>**Hint:** Review Exercise 1!\n",
    "<br><br>Example:\n",
    "<br>Enter your first name, last name, and birth year (in format fn;ln/by): ALEX SMITH;1994\n",
    "<br>Hi  Alex , you are  29  years old!"
   ]
  },
  {
   "cell_type": "code",
   "execution_count": null,
   "metadata": {},
   "outputs": [],
   "source": []
  },
  {
   "cell_type": "markdown",
   "metadata": {},
   "source": [
    "## Assignment 2\n",
    "\n",
    "Write a Python program that prompts the user to enter a 10-digit phone number (in the format \"1234567890\"). The program should format the phone number in the standard business format: \"(123)456-7890\".\n",
    "\n",
    "Note: Your program should check if the user entry contains exactly 10 digit characters before converting it to the standard format. (hint: use the [isdigit()](https://www.geeksforgeeks.org/python-string-isdigit-method/) method to check if the input characters are digits). \n",
    "\n",
    "Example:\n",
    "<br>Enter a phone number: 2624721569\n",
    "<br>Formatted phone number: (262)472-1569\n",
    "\n",
    "Example 2:\n",
    "<br>Enter a phone number: 262-472-1569\n",
    "<br>Invalid input. Please enter a 10-digit number."
   ]
  },
  {
   "cell_type": "code",
   "execution_count": null,
   "metadata": {},
   "outputs": [],
   "source": []
  },
  {
   "cell_type": "code",
   "execution_count": null,
   "metadata": {},
   "outputs": [],
   "source": []
  }
 ],
 "metadata": {
  "kernelspec": {
   "display_name": "Python 3 (ipykernel)",
   "language": "python",
   "name": "python3"
  },
  "language_info": {
   "codemirror_mode": {
    "name": "ipython",
    "version": 3
   },
   "file_extension": ".py",
   "mimetype": "text/x-python",
   "name": "python",
   "nbconvert_exporter": "python",
   "pygments_lexer": "ipython3",
   "version": "3.12.4"
  }
 },
 "nbformat": 4,
 "nbformat_minor": 4
}
