{
 "cells": [
  {
   "cell_type": "markdown",
   "metadata": {},
   "source": [
    "## Exercise 1\n",
    "\n",
    "Write a program to read through the **[mbox-short.txt](http://www.py4e.com/code3/mbox-short.txt)** file and extract and print all the URLs (e.g., http://source.sakaiproject.org/viewsvn/?view=rev&rev=39772) included in it. A URL begins with **http://** and could be located anywhere in a line.\n"
   ]
  },
  {
   "cell_type": "code",
   "execution_count": null,
   "metadata": {},
   "outputs": [],
   "source": []
  },
  {
   "cell_type": "markdown",
   "metadata": {},
   "source": [
    "## Exercise 2\n",
    "\n",
    "Modify the code you wrote for Exercise 1; this time instead of printing the extracted URLs, store them in a txt file called *url.txt* in the Jupyter home directory."
   ]
  },
  {
   "cell_type": "code",
   "execution_count": null,
   "metadata": {},
   "outputs": [],
   "source": []
  },
  {
   "cell_type": "markdown",
   "metadata": {},
   "source": [
    "## Assignment 1\n",
    "\n",
    "For a given email message recorded in **[mbox.txt](https://www.py4e.com/code3/mbox.txt)** log file, the lines starting with the term **'From:'** contain email address of the sender of the message. \n",
    "<br> Write a program that extract all usernames (*only the username part (before @)*) from senders' email addresses whose host domain is **@umich.edu**. Print out each extracted username.\n",
    "\n",
    "<br> Hint: the *username part* in those lines is located between the only white space and the only @ character.\n",
    "\n",
    "\n"
   ]
  },
  {
   "cell_type": "code",
   "execution_count": null,
   "metadata": {},
   "outputs": [],
   "source": []
  },
  {
   "cell_type": "markdown",
   "metadata": {},
   "source": [
    "## Assignment 2\n",
    "\n",
    "Modify the code from assignment 1. Create an output txt file called **umich_users.txt** and store and save all extracted usernames on that. \n",
    "<br> The output file should have 491 lines, each username in a separate line."
   ]
  },
  {
   "cell_type": "code",
   "execution_count": null,
   "metadata": {},
   "outputs": [],
   "source": []
  },
  {
   "cell_type": "markdown",
   "metadata": {},
   "source": [
    "## Bonus Problem (extra 2 points)\n",
    "\n",
    "Modify the code from Assignment 2; this time prompt the user to enter a txt file name and extract the usernames for the requested file. Make sure to add a check point to the code so that if the requested file does not exist in the directory the user gets notified without seeing a python error.\n",
    "\n",
    "Hint: Review the lecture notes.\n",
    "\n",
    "Example 1:\n",
    "<br> Enter a txt file name: mbox-short.txt\n",
    "<br> The usernames were successfully extracted.\n",
    "\n",
    "Example 2:\n",
    "<br> Enter a txt file name: logfile.txt\n",
    "<br> Sorry, the requested file does not exist in the directory."
   ]
  },
  {
   "cell_type": "code",
   "execution_count": null,
   "metadata": {},
   "outputs": [],
   "source": []
  },
  {
   "cell_type": "code",
   "execution_count": null,
   "metadata": {},
   "outputs": [],
   "source": []
  }
 ],
 "metadata": {
  "kernelspec": {
   "display_name": "Python 3 (ipykernel)",
   "language": "python",
   "name": "python3"
  },
  "language_info": {
   "codemirror_mode": {
    "name": "ipython",
    "version": 3
   },
   "file_extension": ".py",
   "mimetype": "text/x-python",
   "name": "python",
   "nbconvert_exporter": "python",
   "pygments_lexer": "ipython3",
   "version": "3.12.4"
  }
 },
 "nbformat": 4,
 "nbformat_minor": 4
}
