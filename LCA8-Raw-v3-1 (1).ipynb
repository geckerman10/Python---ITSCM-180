{
 "cells": [
  {
   "cell_type": "markdown",
   "id": "8ed07df8",
   "metadata": {},
   "source": [
    "## Exercise 1\n",
    "\n",
    "Write a program that prompts the user to enter the name of a mail server txt log file (either mbox.txt or mbox-short.txt), then generates a dictionary to show the number of emails sent on each day(with the day names as its *keys* and the number of emails as the *values*).\n",
    "\n",
    "**Note:** the day of each email transaction is contained in the line beginning with *\"From \"* in its corresponding block. Check out those lines to identify the pattern.\n",
    "\n",
    "<br>Example:\n",
    "<br>Enter a file name: mbox-short.txt\n",
    "<br>{'Fri': 20, 'Thu': 6, 'Sat': 1}"
   ]
  },
  {
   "cell_type": "code",
   "execution_count": 9,
   "id": "fc62f564",
   "metadata": {},
   "outputs": [
    {
     "name": "stdin",
     "output_type": "stream",
     "text": [
      "Enter a file name mbox.txt\n"
     ]
    },
    {
     "name": "stdout",
     "output_type": "stream",
     "text": [
      "{'Sat': 61, 'Fri': 315, 'Thu': 392, 'Wed': 292, 'Tue': 372, 'Mon': 299, 'Sun': 66}\n"
     ]
    }
   ],
   "source": [
    "#get the log file name from user and open it\n",
    "fname=input('Enter a file name')\n",
    "fhandle=open(fname)\n",
    "days=[]\n",
    "# create a list of all days with an email\n",
    "#using a loop to read through the lines of the txt file\n",
    "for line in fhandle:\n",
    "    #find lines that starts with from\n",
    "    if line.startswith('From '):\n",
    "        #Extract third word from the line and append it to the days list\n",
    "        words=line.split()\n",
    "        day=words[2]\n",
    "        days.append(day)\n",
    "#loop through days list and convert to a counter dictionary\n",
    "daycount={}\n",
    "for item in days:\n",
    "    daycount[item]=daycount.get(item,0)+1\n",
    "print(daycount)"
   ]
  },
  {
   "cell_type": "markdown",
   "id": "e8df4b35",
   "metadata": {},
   "source": [
    "## Exercise 2\n",
    "\n",
    "Download the text file 'encryption.txt' from Canvas.\n",
    "<br>Each line of the file contains a letter from alphabets and a special character assigned to that (separated by comma) (e.g., a,@). Write a program that reads through the file and creates a dictionary with letters as the keys and special characters as the values.\n",
    "<br>Then prompt the user to enter a secret text! and show him/her the encrypted version of the text by replacing each letter with its corresponding special character from the dictionary. Make sure to convert the user's input to lowercase letters.\n",
    "\n",
    "Example:\n",
    "<br>Enter a secret: I am the one who broke the TV screen but my dad thinks our dog did it\n",
    "<br>}`@]`.41`6{1`346`%|691`.41`./`5!|11{`%(.`]>`&@&`.4}{95`6(|`&60`&}&`}."
   ]
  },
  {
   "cell_type": "code",
   "execution_count": 58,
   "id": "a03e6b4e",
   "metadata": {},
   "outputs": [
    {
     "name": "stdin",
     "output_type": "stream",
     "text": [
      "Enter a secret I am the one who broke the TV screen but my dad thinks our dog did it\n"
     ]
    },
    {
     "name": "stdout",
     "output_type": "stream",
     "text": [
      "}`@]`.41`6{1`346`%|691`.41`./`5!|11{`%(.`]>`&@&`.4}{95`6(|`&60`&}&`}.\n"
     ]
    }
   ],
   "source": [
    "#read encryption file and convert it to a dictionary\n",
    "fhand=open('encryption.txt')\n",
    "codes={}\n",
    "for line in fhand:\n",
    "    #first character in each line in the key and the third is the value\n",
    "    key=line[0]\n",
    "    value=line[2]\n",
    "    codes[key]=value\n",
    "#getting a text from the user and encrypt it\n",
    "text=input('Enter a secret')\n",
    "text=text.lower()\n",
    "#convert to encrypted text\n",
    "enctext=\"\"\n",
    "for letter in text:\n",
    "    newletter=str(codes.get(letter))\n",
    "    enctext+=newletter\n",
    "print(enctext)"
   ]
  },
  {
   "cell_type": "markdown",
   "id": "ba08fced",
   "metadata": {},
   "source": [
    "## Assignment 1\n",
    "\n",
    "Extend the program from Exercise 1 such that in addition to the file name, we prompt the user to enter a desired day name (e.g., Friday), then instead of printing the entire daycounts dictionary only show the user the number of emails for the requested day.\n",
    "\n",
    "<br> Example 1:\n",
    "<br> Enter a file name: mbox-short.txt\n",
    "<br> Enter a day name: Friday\n",
    "<br> The number of emails transacted during a Friday in the mbox-short.txt log file is: 20\n",
    "\n",
    "<br> Example 2:\n",
    "<br> Enter a file name: mbox-short.txt\n",
    "<br> Enter a day name: Monday\n",
    "<br> The number of emails transacted during a Monday in the mbox-short.txt log file is: 0"
   ]
  },
  {
   "cell_type": "code",
   "execution_count": 21,
   "id": "6b952087",
   "metadata": {},
   "outputs": [
    {
     "name": "stdin",
     "output_type": "stream",
     "text": [
      "Enter a file name mbox-short.txt\n",
      "Enter a day name Friday\n"
     ]
    },
    {
     "name": "stdout",
     "output_type": "stream",
     "text": [
      "The number of emails transacted during a Friday in the mbox-short.txt log file is: 20\n"
     ]
    }
   ],
   "source": [
    "#get the log file name from user and open it\n",
    "fname=input('Enter a file name')\n",
    "fhandle=open(fname)\n",
    "days=[]\n",
    "# create a list of all days with an email\n",
    "#using a loop to read through the lines of the txt file\n",
    "for line in fhandle:\n",
    "    #find lines that starts with from\n",
    "    if line.startswith('From '):\n",
    "        #Extract third word from the line and append it to the days list\n",
    "        words=line.split()\n",
    "        day=words[2]\n",
    "        days.append(day)\n",
    "#loop through days list and convert to a counter dictionary\n",
    "daycount={}\n",
    "for item in days:\n",
    "    daycount[item]=daycount.get(item,0)+1\n",
    "#get day from user and convert it to short form\n",
    "dayname=input('Enter a day name')\n",
    "shortname=dayname[0:3]\n",
    "#get count for each day and print to user\n",
    "count=daycount[shortname]\n",
    "print('The number of emails transacted during a',dayname,'in the',fname,'log file is:',count)"
   ]
  },
  {
   "cell_type": "markdown",
   "id": "9cc4cd0c",
   "metadata": {},
   "source": [
    "## Assignment 2\n",
    "\n",
    "The following script takes the *codes* dictionary we created in Exercise 2 and converts that to a new dictionary called *newcodes* where the keys and values are swapped. (run it and see the result)"
   ]
  },
  {
   "cell_type": "code",
   "execution_count": 48,
   "id": "1c8859ca",
   "metadata": {},
   "outputs": [
    {
     "name": "stdout",
     "output_type": "stream",
     "text": [
      "{'`': ' ', '@': 'a', '%': 'b', '!': 'c', '&': 'd', '1': 'e', '#': 'f', '0': 'g', '4': 'h', '}': 'i', '^': 'j', '9': 'k', '7': 'l', ']': 'm', '{': 'n', '6': 'o', '~': 'p', '2': 'q', '|': 'r', '5': 's', '.': 't', '(': 'u', '/': 'v', '3': 'w', '-': 'x', '>': 'y', '+': 'z'}\n"
     ]
    }
   ],
   "source": [
    "#swapping the keys and values of the dictionary \"codes\" (do not change the code in this box, just run it)\n",
    "newcodes={}\n",
    "for key in codes:\n",
    "    newcodes[codes[key]]= key\n",
    "    \n",
    "print(newcodes)"
   ]
  },
  {
   "cell_type": "markdown",
   "id": "0d53058e",
   "metadata": {},
   "source": [
    "Now in the following code cell write a program that uses the *newcodes* dictionary to decrypt the following encrypted text: \n",
    "<br>066&\\`.4}{05\\`.@91\\`.}]1"
   ]
  },
  {
   "cell_type": "code",
   "execution_count": 56,
   "id": "fb60321f-55ad-42ae-96f6-bee5a62733bb",
   "metadata": {},
   "outputs": [
    {
     "name": "stdout",
     "output_type": "stream",
     "text": [
      "good things take time\n"
     ]
    }
   ],
   "source": [
    "text='066&`.4}{05`.@91`.}]1'\n",
    "#get text and take each letter convert it to the new code and add to the result and print\n",
    "decoded=\"\"\n",
    "for letter in text:\n",
    "    decodedletter=str(newcodes[letter])\n",
    "    decoded+=decodedletter\n",
    "print(decoded)"
   ]
  }
 ],
 "metadata": {
  "kernelspec": {
   "display_name": "Python 3 (ipykernel)",
   "language": "python",
   "name": "python3"
  },
  "language_info": {
   "codemirror_mode": {
    "name": "ipython",
    "version": 3
   },
   "file_extension": ".py",
   "mimetype": "text/x-python",
   "name": "python",
   "nbconvert_exporter": "python",
   "pygments_lexer": "ipython3",
   "version": "3.12.4"
  }
 },
 "nbformat": 4,
 "nbformat_minor": 5
}
