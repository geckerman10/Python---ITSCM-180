{
 "cells": [
  {
   "cell_type": "markdown",
   "metadata": {},
   "source": [
    "## Exercise 1.1\n",
    "\n",
    "Make a Python class called **Car**. The __init()__ method for Car should store three attributes: make, model, and year. Also, set odometer at 0 for every new car instance constructed.\n",
    "<br>For the Car class, write a method called **trip** that gets distance of each trip driven by a car object and updates the car odometer."
   ]
  },
  {
   "cell_type": "code",
   "execution_count": null,
   "metadata": {},
   "outputs": [],
   "source": []
  },
  {
   "cell_type": "markdown",
   "metadata": {},
   "source": [
    "## Exercise 1.2\n",
    "\n",
    "Now create a new instance called my car, with the following attributes: Nissan, Rogue, 2017.\n",
    "Add two trips of 22 and 16 miles to its odometer using the trip() method."
   ]
  },
  {
   "cell_type": "code",
   "execution_count": null,
   "metadata": {},
   "outputs": [],
   "source": []
  },
  {
   "cell_type": "markdown",
   "metadata": {},
   "source": [
    "## Exercise 2.1\n",
    "\n",
    "Make a new class called **Electric_Car** which posses all the methods and attributes of the **Car** class. In addition set a new attribute called charge_count that starts from 0 for any newly constructed electric car. \n",
    "<br>Write a new method called charge() that each time we call it for a given electric car, updates the charge_count by adding 1 unit."
   ]
  },
  {
   "cell_type": "code",
   "execution_count": null,
   "metadata": {},
   "outputs": [],
   "source": []
  },
  {
   "cell_type": "markdown",
   "metadata": {},
   "source": [
    "## Exercise 2.2\n",
    "\n",
    "Now construct a new electric car instance with following attributes: Make: Tesla; Model: s; Year: 2018.\n",
    "<br> Call the trip() method to update odometer with a trip of 200 miles. Also call the charge() method to update the charge count twice. "
   ]
  },
  {
   "cell_type": "code",
   "execution_count": null,
   "metadata": {},
   "outputs": [],
   "source": []
  },
  {
   "cell_type": "markdown",
   "metadata": {},
   "source": [
    "## Assignment 1\n",
    "\n",
    "Make a class called **Restaurant**. The __init__() method for Restaurant should store two attributes: a **restaurant_name** and a **cuisine_type**. Make an attribute called meals_served in the class which starts at 0 for each new restaurant instance. Make a method called order() that gets the number of meals(order size) in a given order and updates the meals_served attribute, then prints the current total number of meals served so far.\n",
    "\n",
    "Then create two new instances(objects) with the following attributes: (Chipotle,Mexican) for restaurant1 and (Taj Mahal,Indian) for restaurant2; and call the order() method once for each instance with order sizes of 4 and 3 meals, respectively.\n",
    "\n",
    "Expected Output:\n",
    "<br>A new restaurant is created called Chipotle which serves Mexican food\n",
    "<br>A new restaurant is created called Taj Mahal which serves Indian food\n",
    "<br>Total meals served so far in Chipotle is: 4\n",
    "<br>Total meals served so far in Taj Mahal is: 3"
   ]
  },
  {
   "cell_type": "code",
   "execution_count": null,
   "metadata": {},
   "outputs": [],
   "source": []
  },
  {
   "cell_type": "code",
   "execution_count": null,
   "metadata": {},
   "outputs": [],
   "source": []
  },
  {
   "cell_type": "markdown",
   "metadata": {},
   "source": [
    "## Assignment 2\n",
    "\n",
    "Make a new class called **Buffet** which posses all the methods and attributes of the **Restaurant** class. In addition, define a new attribute called people_served that sets at 0 for each newly constructed object. Also, make a method called ppl() that gets the number of people served on each table and updates the people_served attribute accordingly. Then prints the total number of people served so far.\n",
    "\n",
    "Construct a new buffet object with *Milano* as name and *Italian* as cuisine type, then call the *order()* method with an order size of 10 meals as well as the *ppl()* method with a table size of 6 people."
   ]
  },
  {
   "cell_type": "code",
   "execution_count": null,
   "metadata": {},
   "outputs": [],
   "source": []
  },
  {
   "cell_type": "code",
   "execution_count": null,
   "metadata": {},
   "outputs": [],
   "source": []
  }
 ],
 "metadata": {
  "kernelspec": {
   "display_name": "Python 3",
   "language": "python",
   "name": "python3"
  },
  "language_info": {
   "codemirror_mode": {
    "name": "ipython",
    "version": 3
   },
   "file_extension": ".py",
   "mimetype": "text/x-python",
   "name": "python",
   "nbconvert_exporter": "python",
   "pygments_lexer": "ipython3",
   "version": "3.8.3"
  }
 },
 "nbformat": 4,
 "nbformat_minor": 4
}
