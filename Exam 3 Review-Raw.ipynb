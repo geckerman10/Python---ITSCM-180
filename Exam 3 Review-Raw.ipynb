{
 "cells": [
  {
   "cell_type": "markdown",
   "id": "b06b96ea",
   "metadata": {},
   "source": [
    "## Problem 1\n",
    "\n",
    "**Crowdsourcing** involves obtaining work, information, or opinions from a large group of people who submit their data via the Internet, social media, and smartphone apps. Wikipedia, the largest online encyclopedia, is known as the father of crowdsourcing which uses people’s knowledge all around the world to extend its database. In the following exercise we are going to use Python to mimic the crowdsourcing process used by Wikipedia:\n",
    "\n",
    "Create a glossary of python programming terms using a python dictionary. Think of 5-10 programming terms (keywords,functions,etc.) you’ve learned about in the previous chapters. Use these words as the *keys* in your glossary, and store their meanings/applications as *values*.\n",
    "\n",
    "Then prompt the user to enter a programming term and show him/her its meaning. If the entered key is not in your glossary your program should just print a message telling the user that \"your requested term was not found\".\n",
    "\n",
    "Example (your glossary does not have to contain the same terms as mine does):\n",
    "<br>Enter a programming term to see its meaning: if\n",
    "<br>if is a keyword being used for creating conditional statements\n",
    "<br>Enter a programming term to see its meaning: round\n",
    "<br>Sorry! that term does not exist in our glossary!"
   ]
  },
  {
   "cell_type": "code",
   "execution_count": null,
   "id": "8219affc",
   "metadata": {},
   "outputs": [],
   "source": []
  },
  {
   "cell_type": "markdown",
   "id": "3731b41e",
   "metadata": {},
   "source": [
    "## Problem 2\n",
    "\n",
    "Modify your program in Problem 1, such that if the requested term does not exist in the glossary it asks the user if he/she is willing to contribute to the glossary by inserting the term's meaning. If he/she agreed, prompt him/her to enter the meaning and then add the (term,meaning) pair as a new item to the glossary.\n",
    "<br>**Note**: do not repeat the glossary definition lines of code here. That leads to erasing the newly added term by the user from glossary each time we run the program. Just use the glossary you created in problem 1 here for searching and addition.\n",
    "\n",
    "Example:\n",
    "<br>Enter a programming term to see its meaning: round\n",
    "<br>Sorry! that term does not exist in our glossary! Would you like to add its meaning (y/n)? y\n",
    "<br>Please enter the meaning: a function that rounds a numeric value to the nearest integer.\n",
    "<br>Thanks for your contribution! your input is recorded.\n",
    "\n",
    "Example 2:\n",
    "<br>Enter a programming term to see its meaning: round\n",
    "<br>Sorry! that term does not exist in our glossary! Would you like to add its meaning (y/n)? n\n",
    "<br>Okay! Have a good one!\n"
   ]
  },
  {
   "cell_type": "code",
   "execution_count": null,
   "id": "97b4b089",
   "metadata": {},
   "outputs": [],
   "source": []
  },
  {
   "cell_type": "markdown",
   "id": "a2f5f6c6",
   "metadata": {},
   "source": [
    "## Problem 3.1\n",
    "\n",
    "The mbox.txt contains the mail server log of an organization. The cyber security team have recently detected some suspicious activities occuring between midnight and 6 AM. So, they would like to identify the users with unusually high activity during those hours to monitor them in the future.\n",
    "\n",
    "Write a python program that reads the log file and generates a python list (call it *suspect_users*) containing all email addresses who sent emails through this server during those hours. \n"
   ]
  },
  {
   "cell_type": "code",
   "execution_count": null,
   "id": "7d068518",
   "metadata": {},
   "outputs": [],
   "source": []
  },
  {
   "cell_type": "markdown",
   "id": "5a31dae3",
   "metadata": {},
   "source": [
    "## Problem 3.2\n",
    "\n",
    "Now using the suspect_users list create a many counter python dictionary with the email addresses as keys and their frequency in the list as values."
   ]
  },
  {
   "cell_type": "code",
   "execution_count": null,
   "id": "37ab364e",
   "metadata": {},
   "outputs": [],
   "source": []
  },
  {
   "cell_type": "code",
   "execution_count": null,
   "id": "b00bb936",
   "metadata": {},
   "outputs": [],
   "source": []
  }
 ],
 "metadata": {
  "kernelspec": {
   "display_name": "Python 3 (ipykernel)",
   "language": "python",
   "name": "python3"
  },
  "language_info": {
   "codemirror_mode": {
    "name": "ipython",
    "version": 3
   },
   "file_extension": ".py",
   "mimetype": "text/x-python",
   "name": "python",
   "nbconvert_exporter": "python",
   "pygments_lexer": "ipython3",
   "version": "3.11.4"
  }
 },
 "nbformat": 4,
 "nbformat_minor": 5
}
