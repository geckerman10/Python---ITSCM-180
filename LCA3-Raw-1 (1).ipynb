{
 "cells": [
  {
   "cell_type": "markdown",
   "metadata": {},
   "source": [
    "## Exercise 1.1\n",
    "\n",
    "Create a python module called **volume** with three functions to calculate the volume of spheres, cylinders, and cubes given their dimensions.Use the following link for the formulas:\n",
    "https://byjus.com/volume-formulas/\n",
    "<br> Save the module as a **.py** file in the directory folder. "
   ]
  },
  {
   "cell_type": "markdown",
   "metadata": {},
   "source": [
    "## Exercise 1.2\n",
    "\n",
    "Write a python program that asks the users what geometric shape they are interested in calculating volume for, then prompt the user to provide any required dimensions for that shape and use the functions from the **volume** module to calculate and printing out the corresponding volume.\n",
    "\n",
    "Example:\n",
    "<br>What geometric shape are you interested in calculating volume for? sphere\n",
    "<br>Enter the radius: 6.25\n",
    "<br>The volume of your sphere is: 1022.135\n",
    "\n",
    "<br>Example 2:\n",
    "<br>What geometric shape are you interested in calculating volume for? cylinder\n",
    "<br>Enter the radius: 4\n",
    "<br>Enter the height:2.8\n",
    "<br>The volume of your cylinder is: 140.74"
   ]
  },
  {
   "cell_type": "code",
   "execution_count": 2,
   "metadata": {},
   "outputs": [
    {
     "name": "stdin",
     "output_type": "stream",
     "text": [
      "Enter your desired geometric shape: sphere\n",
      "Enter the radius: 6.25\n"
     ]
    },
    {
     "name": "stdout",
     "output_type": "stream",
     "text": [
      "The volume of your sphere is: 1022.14\n"
     ]
    }
   ],
   "source": [
    "#getting the name of the desired shape from the user and import module\n",
    "shape=input('Enter your desired geometric shape:')\n",
    "import volume\n",
    "#prompt the user to provide the dimensions based on the shape provided, call the proper function from the volume module, and calculate the volume\n",
    "if shape=='cube':\n",
    "    side=float(input('Enter the side length:'))\n",
    "    vol=volume.cube(side)\n",
    "elif shape=='sphere':\n",
    "    radius=float(input('Enter the radius:'))\n",
    "    vol=volume.sphere(radius)\n",
    "elif shape=='cylinder':\n",
    "    radius=float(input('Enter the radius:'))\n",
    "    height=float(input('Enter the height:'))\n",
    "    vol=volume.cylinder(radius,height)\n",
    "else:\n",
    "    print('Sorry, I do not know how to calculate its volume!')\n",
    "#show calculated volume\n",
    "print('The volume of your',shape,'is:',round(vol,2))"
   ]
  },
  {
   "attachments": {
    "bmi.PNG": {
     "image/png": "[encoded data removed]"
    }
   },
   "cell_type": "markdown",
   "metadata": {},
   "source": [
    "## Lab Assignment 1.1\n",
    "\n",
    "The Body Mass Index (BMI) of a person is a measure of his/her healthiness and can be calculated using the following formula, in which weight and height has to be in kg and meters, respectively. \n",
    "<br> Define a python function called **BMIcalc** that takes the weight(in lbs) and height(in inches) of a person and calculates and returns his/her Body Mass Index.  (1 lb = 0.454 kg  and 1 inch= 0.0254 m)\n",
    "<br> Note: make sure that the calculated BMI is shown with up to 2 decimal digits only.\n",
    "\n",
    "![bmi.PNG](attachment:bmi.PNG)\n"
   ]
  },
  {
   "cell_type": "code",
   "execution_count": 78,
   "metadata": {},
   "outputs": [],
   "source": [
    "#define function\n",
    "def BMIcalc(weight,height):\n",
    "    #convert variables\n",
    "    weight=weight*0.454\n",
    "    height=height*0.0254\n",
    "    #calculate BMI and return output\n",
    "    BMI=(weight/(height**2))\n",
    "    return(round(BMI,2))"
   ]
  },
  {
   "attachments": {
    "BMI.png": {
     "image/png": "[encoded data removed]"
    }
   },
   "cell_type": "markdown",
   "metadata": {},
   "source": [
    "## Lab Assignment 1.2\n",
    "\n",
    "Now write a program that prompts the user to enter his/her weight(lbs) and height(inches). Then by calling the BMICalc function calculate the BMI and using the following criteria determine if he/she is underweight, healthy, or overweight.\n",
    "\n",
    "![BMI.png](attachment:BMI.png)\n",
    "<br>\n",
    "<br>Example:\n",
    "<br>Enter your weight in pounds: 185\n",
    "<br>Enter your height in inches: 70\n",
    "<br>Your BMI is 26.57 and you are: Overweight"
   ]
  },
  {
   "cell_type": "code",
   "execution_count": 58,
   "metadata": {},
   "outputs": [
    {
     "name": "stdin",
     "output_type": "stream",
     "text": [
      "Enter your weight in pounds: 185\n",
      "Enter you height in inches: 70\n"
     ]
    },
    {
     "name": "stdout",
     "output_type": "stream",
     "text": [
      "Your BMI is 26.57 and you are: Overweight\n"
     ]
    }
   ],
   "source": [
    "#get variables from the user\n",
    "weight=float(input('Enter your weight in pounds:'))\n",
    "inches=float(input('Enter you height in inches:'))\n",
    "#calculate BMI\n",
    "BMI=BMIcalc(weight,inches)\n",
    "#State health status\n",
    "if BMI<18.5:\n",
    "    healthstatus='Underweight'\n",
    "elif BMI<25:\n",
    "    healthstatus='Healthy'\n",
    "elif BMI>25:\n",
    "    healthstatus='Overweight'\n",
    "#print output\n",
    "print('Your BMI is',BMI,'and you are:',healthstatus)"
   ]
  }
 ],
 "metadata": {
  "kernelspec": {
   "display_name": "Python 3 (ipykernel)",
   "language": "python",
   "name": "python3"
  },
  "language_info": {
   "codemirror_mode": {
    "name": "ipython",
    "version": 3
   },
   "file_extension": ".py",
   "mimetype": "text/x-python",
   "name": "python",
   "nbconvert_exporter": "python",
   "pygments_lexer": "ipython3",
   "version": "3.12.4"
  }
 },
 "nbformat": 4,
 "nbformat_minor": 4
}
