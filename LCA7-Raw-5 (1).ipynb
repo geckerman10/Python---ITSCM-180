{
 "cells": [
  {
   "cell_type": "markdown",
   "metadata": {},
   "source": [
    "## Exercise 1\n",
    "\n",
    "Rewrite the following program that we wrote in LCA 5 for extracting the **host** domain from a string in the following format:\n",
    "<br>*From stephen.marquard@**uct.ac.za** Sat Jan  5 09:14:16 2008.*\n",
    "\n",
    "<br>This time use the **split()** method of python strings library for this purpose."
   ]
  },
  {
   "cell_type": "code",
   "execution_count": null,
   "metadata": {},
   "outputs": [],
   "source": [
    "line= input('First line of email: ')\n",
    "\n",
    "#Step1: finding the position of @\n",
    "atpos= line.find('@')\n",
    "\n",
    "#Step2:finding the position of the first space after the @ \n",
    "spacepos= line.find(' ',atpos+1)\n",
    "\n",
    "#Step3: slicing the string from @ through the first space after that\n",
    "host= line[atpos+1:spacepos]\n",
    "\n",
    "print('host:', host)"
   ]
  },
  {
   "cell_type": "code",
   "execution_count": 7,
   "metadata": {
    "scrolled": true
   },
   "outputs": [
    {
     "name": "stdin",
     "output_type": "stream",
     "text": [
      "Enter the first line of the email: From stephen.marquard@uct.ac.za Sat Jan 5 09:14:16 2008.\n"
     ]
    },
    {
     "name": "stdout",
     "output_type": "stream",
     "text": [
      "uct.ac.za\n"
     ]
    }
   ],
   "source": [
    "#get the first line of email from user\n",
    "line=input('Enter the first line of the email:')\n",
    "#splitting the first line of email\n",
    "words=line.split()\n",
    "#extract email\n",
    "email=words[1]\n",
    "emailparts=email.split('@')\n",
    "user=emailparts[1]\n",
    "print(user)"
   ]
  },
  {
   "cell_type": "markdown",
   "metadata": {},
   "source": [
    "## Exercise 2\n",
    "\n",
    "Download a copy of the file www.py4e.com/code3/romeo.txt. Write a program to extract a glossary of all the words existing in this text file (without duplicates), then sorts them alphabetically and prints out the sorted glossary."
   ]
  },
  {
   "cell_type": "code",
   "execution_count": 68,
   "metadata": {},
   "outputs": [
    {
     "name": "stdout",
     "output_type": "stream",
     "text": [
      "['already', 'and', 'arise', 'breaks', 'but', 'east', 'envious', 'fair', 'grief', 'is', 'it', 'juliet', 'kill', 'light', 'moon', 'pale', 'sick', 'soft', 'sun', 'the', 'through', 'what', 'who', 'window', 'with', 'yonder']\n"
     ]
    }
   ],
   "source": [
    "#open the text file\n",
    "fhand=open('romeo.txt')\n",
    "#write for loop to read through the lines\n",
    "allwords=[]\n",
    "for line in fhand:\n",
    "    linewords=line.split()\n",
    "    allwords=allwords+linewords\n",
    "#extract unique values for the all words list and add them to a new list\n",
    "uniquewords=[]\n",
    "for word in allwords:\n",
    "    word=word.lower()\n",
    "    if word in uniquewords:\n",
    "        continue\n",
    "    else:\n",
    "        uniquewords.append(word)\n",
    "uniquesort=uniquewords.sort()\n",
    "print(uniquewords)"
   ]
  },
  {
   "cell_type": "markdown",
   "metadata": {},
   "source": [
    "## Assignment 1\n",
    "\n",
    "Write a Python program that takes a line of text in the following format and extracts the user’s name and the login date from it:\n",
    "<br> *User: alice.wonderland@example.com | Login Time: Mon Feb 12 2023 10:45:30*\n",
    "\n",
    "Your program should extract and display:\n",
    "<br>- The user’s name (*alice.wonderland* in this example)\n",
    "<br>- The login date (*Feb 12 2023* in this example)\n",
    "\n",
    "**Hint**: Use the split() method to break down the text into parts and identify the relevant information."
   ]
  },
  {
   "cell_type": "code",
   "execution_count": 22,
   "metadata": {},
   "outputs": [
    {
     "name": "stdin",
     "output_type": "stream",
     "text": [
      "Enter the first line of the email: User: alice.wonderland@example.com | Login Time: Mon Feb 12 2023 10:45:30\n"
     ]
    },
    {
     "name": "stdout",
     "output_type": "stream",
     "text": [
      "alice.wonderland  Mon Feb 12 2023 10:45:30\n"
     ]
    }
   ],
   "source": [
    "#get the first line of email from user\n",
    "line=input('Enter the first line of the email:')\n",
    "#splitting the first line of email\n",
    "words=line.split()\n",
    "#extract user from email\n",
    "email=words[1]\n",
    "emailparts=email.split('@')\n",
    "user=emailparts[0]\n",
    "#extract date from line\n",
    "dateparts=line.split('Login Time:')\n",
    "date=dateparts[1]\n",
    "print(user,date)"
   ]
  },
  {
   "cell_type": "markdown",
   "metadata": {},
   "source": [
    "## Assignment 2\n",
    "\n",
    "Write a program that opens and reads through the lines of the *mbox-short.txt* text file. \n",
    "<br>If a line starts with the term *'Author:'* (not author:) it contains the email address of the author of message (e.g., Author: zqian@umich.edu)\n",
    "<br>The goal is to create an address book (python list) including the unique email addresses (i.e., no duplicates) of all message authors. \n",
    "<br>In the end, sort all unique email addresses in the address book alphabetically and print that out.\n",
    "\n",
    "<br>Expected output:\n",
    "<br>['antranig@caret.cam.ac.uk', 'cwen@iupui.edu', 'david.horwitz@uct.ac.za', 'gopal.ramasammycook@gmail.com', 'gsilver@umich.edu', 'louis@media.berkeley.edu', 'ray@media.berkeley.edu', 'rjlowe@iupui.edu', 'stephen.marquard@uct.ac.za', 'wagnermr@iupui.edu', 'zqian@umich.edu']"
   ]
  },
  {
   "cell_type": "code",
   "execution_count": 70,
   "metadata": {},
   "outputs": [
    {
     "name": "stdout",
     "output_type": "stream",
     "text": [
      "['a.fish@lancaster.ac.uk', 'aaronz@vt.edu', 'ajpoland@iupui.edu', 'antranig@caret.cam.ac.uk', 'arwhyte@umich.edu', 'bahollad@indiana.edu', 'bkirschn@umich.edu', 'chmaurer@iupui.edu', 'colin.clark@utoronto.ca', 'csev@umich.edu', 'cwen@iupui.edu', 'david.horwitz@uct.ac.za', 'dlhaines@umich.edu', 'gbhatnag@umich.edu', 'ggolden@umich.edu', 'gjthomas@iupui.edu', 'gopal.ramasammycook@gmail.com', 'gsilver@umich.edu', 'hu2@iupui.edu', 'ian@caret.cam.ac.uk', 'jimeng@umich.edu', 'jleasia@umich.edu', 'jlrenfro@ucdavis.edu', 'john.ellis@rsmart.com', 'josrodri@iupui.edu', 'jzaremba@unicon.net', 'kimsooil@bu.edu', 'knoop@umich.edu', 'ktsao@stanford.edu', 'lance@indiana.edu', 'louis@media.berkeley.edu', 'mbreuker@loi.nl', 'mmmay@indiana.edu', 'nuno@ufp.pt', 'ostermmg@whitman.edu', 'ray@media.berkeley.edu', 'rjlowe@iupui.edu', 'sgithens@caret.cam.ac.uk', 'ssmail@indiana.edu', 'stephen.marquard@uct.ac.za', 'stuart.freeman@et.gatech.edu', 'thoppaymallika@fhda.edu', 'tnguyen@iupui.edu', 'wagnermr@iupui.edu', 'zach.thomas@txstate.edu', 'zqian@umich.edu']\n"
     ]
    }
   ],
   "source": [
    "#load file\n",
    "handle=open('mbox.txt','r')\n",
    "#read each line and get lines that start with author and extract the author and add it to a list\n",
    "allauthors=[]\n",
    "for line in handle:\n",
    "    if line.startswith('Author:'):\n",
    "        #get first and last characters and print between them\n",
    "        authorparts=line.split('Author: ')\n",
    "        author=authorparts[1].rstrip()\n",
    "        allauthors.append(author)\n",
    "#find unique authors and add to a new list\n",
    "uniqueauthor=[]\n",
    "for author in allauthors:\n",
    "    if author in uniqueauthor:\n",
    "        continue\n",
    "    else:\n",
    "        uniqueauthor.append(author)\n",
    "authorsort=uniqueauthor.sort()\n",
    "print(uniqueauthor)"
   ]
  }
 ],
 "metadata": {
  "kernelspec": {
   "display_name": "Python 3 (ipykernel)",
   "language": "python",
   "name": "python3"
  },
  "language_info": {
   "codemirror_mode": {
    "name": "ipython",
    "version": 3
   },
   "file_extension": ".py",
   "mimetype": "text/x-python",
   "name": "python",
   "nbconvert_exporter": "python",
   "pygments_lexer": "ipython3",
   "version": "3.12.4"
  }
 },
 "nbformat": 4,
 "nbformat_minor": 4
}
