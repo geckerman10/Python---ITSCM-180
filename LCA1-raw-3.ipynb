{
 "cells": [
  {
   "attachments": {
    "download%20%281%29.png": {
     "image/png": "[encoded data removed]"
    }
   },
   "cell_type": "markdown",
   "metadata": {},
   "source": [
    "# Exercise 1\n",
    "\n",
    "Write a program that prompts the user to enter the radius of a circle (r) in *inches*, then calculates and returns its area in *square feet*. \n",
    "<br> Note: (1 ft= 12 inch)\n",
    "![download%20%281%29.png](attachment:download%20%281%29.png)\n",
    "<br>Example:\n",
    "<br>Enter the radius in inches: 36\n",
    "<br>Area of circle is: 28.26 sqft\n"
   ]
  },
  {
   "cell_type": "code",
   "execution_count": null,
   "metadata": {},
   "outputs": [],
   "source": []
  },
  {
   "attachments": {
    "loan.gif": {
     "image/gif": "[encoded data removed]"
    }
   },
   "cell_type": "markdown",
   "metadata": {},
   "source": [
    "# Exercise 2\n",
    "\n",
    "Write a program that prompts the user to enter his/her requested loan amount, desired **annual** interest rate, and desired loan term (i.e., number of payments), then calculates and show the amount of each monthly payment with two decimal digits. The following formula should be used:\n",
    "![loan.gif](attachment:loan.gif)\n",
    "<br>A = monthly payment amount\n",
    "<br>P = Principal (loan amount)\n",
    "<br>r = interest rate per **month**\n",
    "<br>n = loan term (number of monthly payments)\n",
    "<br><br>Example:\n",
    "<br>Enter your requested loan amount: 50000\n",
    "<br>Enter your desired annual interest rate: 0.0499\n",
    "<br>Enter your loan term in months: 60\n",
    "<br>Your monthly installment is: 943.33"
   ]
  },
  {
   "cell_type": "code",
   "execution_count": null,
   "metadata": {},
   "outputs": [],
   "source": []
  },
  {
   "cell_type": "markdown",
   "metadata": {},
   "source": [
    "# Lab Assignment 1\n",
    "\n",
    "Write a program that prompts user to enter his/her first name, birth year, and hometown, then calculates his/her age and greets him/her using those information (see example below):\n",
    "<br>\n",
    "    <br>What is your name?: Alex\n",
    "    <br>What is your birth year?: 2000\n",
    "    <br>Where are you from?: Milwaukee, WI\n",
    "    \n",
    "   <br> Output:\n",
    "   <br>Welcome Alex 24 from Milwaukee, WI"
   ]
  },
  {
   "cell_type": "code",
   "execution_count": null,
   "metadata": {},
   "outputs": [],
   "source": []
  },
  {
   "cell_type": "markdown",
   "metadata": {},
   "source": [
    "# Lab Assignment 2\n",
    "\n",
    "Write a program which prompts the user to enter a Celsius temperature, then converts that to Fahrenheit, and prints out the\n",
    "converted temperature. (look for the conversion formula online)\n",
    "\n",
    "<br>Example:\n",
    "<br>Enter temperature in Celcius: 38\n",
    "<br>It is equivalent to 100.4 degrees Fahrenheit"
   ]
  },
  {
   "cell_type": "code",
   "execution_count": null,
   "metadata": {},
   "outputs": [],
   "source": []
  }
 ],
 "metadata": {
  "kernelspec": {
   "display_name": "Python 3 (ipykernel)",
   "language": "python",
   "name": "python3"
  },
  "language_info": {
   "codemirror_mode": {
    "name": "ipython",
    "version": 3
   },
   "file_extension": ".py",
   "mimetype": "text/x-python",
   "name": "python",
   "nbconvert_exporter": "python",
   "pygments_lexer": "ipython3",
   "version": "3.12.4"
  }
 },
 "nbformat": 4,
 "nbformat_minor": 4
}
