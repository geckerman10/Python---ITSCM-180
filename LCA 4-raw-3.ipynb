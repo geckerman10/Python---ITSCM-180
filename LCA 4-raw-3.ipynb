{
 "cells": [
  {
   "cell_type": "markdown",
   "metadata": {},
   "source": [
    "## Exercise 1\n",
    "Write a program that keeps getting the temperature readings (in °F) from a user until the user enters any negative number, then calculates and displays the number of dangerously high temperatures (above 100°F) as well as the average temperature recorded.\n",
    "\n",
    "Example:\n",
    "<br>Enter a temperature reading:102\n",
    "<br>Enter a temperature reading: 95\n",
    "<br>Enter a temperature reading: 99.6\n",
    "<br>Enter a temperature reading: 101.5\n",
    "<br>Enter a temperature reading: -124\n",
    "<br>Total number of dangerously high temperatures: 2\n",
    "<br>Average temperature recorded: 99.53°F\n"
   ]
  },
  {
   "cell_type": "code",
   "execution_count": null,
   "metadata": {},
   "outputs": [],
   "source": []
  },
  {
   "cell_type": "markdown",
   "metadata": {},
   "source": [
    "## Exercise 2\n",
    "\n",
    "The following numbers represent the distances (in miles) driven on the last 10 delivery trips by a delivery driver: \n",
    "<br>[12.5, 18, 22.3, 15, 30.1, 25.5, 19.2, 17, 28, 21.7]\n",
    "<br> Suppose the delivery company reimburses drivers 75 cents per mile for trips over 20 miles, and 90 cents per mile for shorter trips.\n",
    "<br> Write a program that (using a loop) calculates and shows the total reimbursement amount for this set of trips."
   ]
  },
  {
   "cell_type": "code",
   "execution_count": null,
   "metadata": {},
   "outputs": [],
   "source": []
  },
  {
   "cell_type": "markdown",
   "metadata": {},
   "source": [
    "## Assignment 1\n",
    "\n",
    "Write a program that keeps getting the baggage weight of passengers boarded on a plane from user until the user enters **-1**, then calculates and shows the number of overweight baggages(>50 lbs) as well as the total weight of all baggages.  \n",
    "<br>\n",
    "<br>Example:\n",
    "<br>Enter a baggage weight:52\n",
    "<br>Enter a baggage weight:48.5\n",
    "<br>Enter a baggage weight:29\n",
    "<br>Enter a baggage weight:55.2\n",
    "<br>Enter a baggage weight:-1\n",
    "<br>Total number of overweight baggages: 2\n",
    "<br>Total weight of all baggages on plane: 184.7"
   ]
  },
  {
   "cell_type": "code",
   "execution_count": null,
   "metadata": {},
   "outputs": [],
   "source": []
  },
  {
   "cell_type": "markdown",
   "metadata": {},
   "source": [
    "## Assignment 2\n",
    "\n",
    "The following numbers indicate the 10 most recent transactions on a credit card:\n",
    "<br>[28, 37.5, 44.2, 39.9, 56.9, 45.5, 37, 47.2, 38.1, 46.6]\n",
    "<br>Suppose that the bank charges a %1.5 transaction fee only on transactions greater than 40 dollars, but smaller transactions are free of charge.\n",
    "<br> Write a program that (using a loop) calculates and shows total transaction fees that will be charged for this set of transactions.\n",
    "\n",
    "<br>(Answer: 3.61)"
   ]
  },
  {
   "cell_type": "code",
   "execution_count": null,
   "metadata": {},
   "outputs": [],
   "source": []
  },
  {
   "cell_type": "code",
   "execution_count": null,
   "metadata": {},
   "outputs": [],
   "source": []
  }
 ],
 "metadata": {
  "kernelspec": {
   "display_name": "Python 3 (ipykernel)",
   "language": "python",
   "name": "python3"
  },
  "language_info": {
   "codemirror_mode": {
    "name": "ipython",
    "version": 3
   },
   "file_extension": ".py",
   "mimetype": "text/x-python",
   "name": "python",
   "nbconvert_exporter": "python",
   "pygments_lexer": "ipython3",
   "version": "3.12.4"
  }
 },
 "nbformat": 4,
 "nbformat_minor": 4
}
