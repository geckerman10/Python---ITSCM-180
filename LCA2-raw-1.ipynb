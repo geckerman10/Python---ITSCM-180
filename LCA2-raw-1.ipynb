{
 "cells": [
  {
   "cell_type": "markdown",
   "metadata": {},
   "source": [
    "# Exercise 1.1\n",
    "Write a program that prompts employees of a company to enter their hours and hourly pay rate, then calculates their gross pay. The maximum regular working hours for each employee is 40 hours. If someone has worked more than that, each extra hour should be considered as overtime and be paid 1.5 times the regular pay rate. Example:\n",
    "<br>\n",
    "<br>    How many hours did you work last week?: 45 \n",
    "<br>    What is your standard hourly pay rate?: 10\n",
    "<br>    Your pay for past week is: 475.0\n"
   ]
  },
  {
   "cell_type": "code",
   "execution_count": null,
   "metadata": {},
   "outputs": [],
   "source": []
  },
  {
   "cell_type": "markdown",
   "metadata": {},
   "source": [
    "# Exercise 1.2\n",
    "\n",
    "Rewrite the previous program using **try** and **except** so that your program handles non-numeric input gracefully.\n",
    "<br>\n",
    "<br>How many hours did you work last week?: 45 \n",
    "<br>What is your standard hourly pay rate?: ten\n",
    "<br>Error: please enter numeric input\n",
    "<br>**OR**\n",
    "<br>How many hours did you work last week?: 45 hours\n",
    "<br>Error: please enter numeric input\n"
   ]
  },
  {
   "cell_type": "code",
   "execution_count": null,
   "metadata": {},
   "outputs": [],
   "source": []
  },
  {
   "attachments": {
    "tax%20rate%20example.PNG": {
     "image/png": "[encoded data removed]"
    },
    "tax%20rate%20example2.PNG": {
     "image/png": "[encoded data removed]"
    }
   },
   "cell_type": "markdown",
   "metadata": {},
   "source": [
    "# Exercise 3\n",
    "\n",
    "Write a program that gets user's **gross income** and **state of residence** and calculates his/her total income tax (Federal+State), according to the following tax rate tables. \n",
    "<br>The first table shows the federal tax rate to be applied based on the gross income; the second table shows standard state tax rate based on state of residence (let's assume state tax rate does not depend of the amount of income).\n",
    "<br>\n",
    "![tax%20rate%20example.PNG](attachment:tax%20rate%20example.PNG)\n",
    "![tax%20rate%20example2.PNG](attachment:tax%20rate%20example2.PNG)\n",
    "<br>Example:\n",
    "<br>Enter your gross income:42526\n",
    "<br>Enter your state of residence:NY\n",
    "<br>Your income tax is: 9780.98\n"
   ]
  },
  {
   "cell_type": "code",
   "execution_count": null,
   "metadata": {},
   "outputs": [],
   "source": []
  },
  {
   "cell_type": "markdown",
   "metadata": {},
   "source": [
    "# Lab Assignment 1\n",
    "\n",
    "Write a Python program to prompt a student to enter his/her GPA and major, then determines if he/she is eligible to enroll in the ITSCM450 course.\n",
    "<br> Note: to be eligible for the course, the student must have a GPA of at least 3 (regardless of major) OR be a business/engineering major (regardless of GPA).\n",
    "<br>\n",
    "<br>Example 1:\n",
    "<br>Enter your GPA: 2.8\n",
    "<br>Enter your major: business\n",
    "<br>Congrats! you are eligible to enroll in ITSCM450.\n",
    "<br>\n",
    "<br>Example 2:\n",
    "<br>Enter your GPA: 2.95\n",
    "<br>Enter your major: history\n",
    "<br>Sorry, you are not eligible to enroll in ITSCM450.\n"
   ]
  },
  {
   "cell_type": "code",
   "execution_count": null,
   "metadata": {},
   "outputs": [],
   "source": []
  },
  {
   "cell_type": "markdown",
   "metadata": {},
   "source": [
    "# Lab Assignment 2\n",
    "\n",
    "Write a program that gets a temperature number and its unit of measurement(either C or F, the input could be either **lowercase or capital letter**) from a user and convert it to the other measure.(look up for conversion formulas online)\n",
    "<br>\n",
    "<br>Example1:\n",
    "<br>Enter a temperature: 42 \n",
    "<br>Enter unit: C\n",
    "<br>It is equivalent to 107.6 degrees Fahrenheit\n",
    "<br>\n",
    "<br>Example2:\n",
    "<br>Enter a temperature: 86 \n",
    "<br>Enter unit: f\n",
    "<br>It is equivalent to 30 degrees Celcius"
   ]
  },
  {
   "cell_type": "code",
   "execution_count": null,
   "metadata": {},
   "outputs": [],
   "source": []
  }
 ],
 "metadata": {
  "kernelspec": {
   "display_name": "Python 3 (ipykernel)",
   "language": "python",
   "name": "python3"
  },
  "language_info": {
   "codemirror_mode": {
    "name": "ipython",
    "version": 3
   },
   "file_extension": ".py",
   "mimetype": "text/x-python",
   "name": "python",
   "nbconvert_exporter": "python",
   "pygments_lexer": "ipython3",
   "version": "3.9.13"
  }
 },
 "nbformat": 4,
 "nbformat_minor": 2
}
