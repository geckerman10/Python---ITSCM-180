{
 "cells": [
  {
   "attachments": {
    "letter%20grade.PNG": {
     "image/png": "[encoded data removed]"
    }
   },
   "cell_type": "markdown",
   "metadata": {},
   "source": [
    "## Problem 1 (7 pts)\n",
    "\n",
    "Write a Python program that gets a numeric grade (on a scale of 0-100) from the user and convert it to a letter grade based on the following table.\n",
    "\n",
    "![letter%20grade.PNG](attachment:letter%20grade.PNG)\n",
    "\n",
    "The program should be written so that if the user entered either a non-numeric input or a numeric input out of the 0-100 range, it asks him/her to enter a numeric input in the correct range, instead of returning an error.\n",
    "\n",
    "<br>Examples:\n",
    "<br>Enter your numeric grade: 78\n",
    "<br>Your letter grade is C\n",
    "\n",
    "<br>Enter your numeric grade: seventy\n",
    "<br>Please try again and enter a numeric value\n",
    "\n",
    "<br>Enter your numeric grade: -23\n",
    "<br>Please enter a value in the range 0-100."
   ]
  },
  {
   "cell_type": "code",
   "execution_count": null,
   "metadata": {},
   "outputs": [],
   "source": []
  },
  {
   "attachments": {
    "credit%20score.PNG": {
     "image/png": "[encoded data removed]"
    }
   },
   "cell_type": "markdown",
   "metadata": {},
   "source": [
    "## Problem 2 (7 pts)\n",
    "\n",
    "Rewrite the loan installment program from **LCA1** (solved notebook is currently availabe on Canvas). Again, prompt the user to enter his/her desired loan amount and repayment duration. But this time instead of asking the user to input his/her desired interest rate directly, prompt the user to input his/her credit score (a number between 500-800), then determine the applicable annual interest rate based on his/her creditworthiness using the following table:\n",
    "![credit%20score.PNG](attachment:credit%20score.PNG)\n",
    "At the end, show the user both the applied annual interest rate and the monthly installment amount for the requested loan.\n",
    "<br>\n",
    "<br>Example:\n",
    "<br>What is your requested loan amount? 50000\n",
    "<br>What is your repayment duration in months? 72\n",
    "<br>What is your current credit score? 710\n",
    "\n",
    "<br>Your annual interest rate would be:0.095\n",
    "<br>Your monthly installment is:913.73"
   ]
  },
  {
   "cell_type": "code",
   "execution_count": null,
   "metadata": {},
   "outputs": [],
   "source": []
  },
  {
   "cell_type": "markdown",
   "metadata": {},
   "source": [
    "## Problem 3.1 (4 pts)\n",
    "\n",
    "Each year the IRS specifies some amount called *standard deduction* which is the amount of annual income that is exempt from tax. The standard deduction of a tax filer depends on his/her filing status (single, married, or head of household). *Taxable income* of a tax filer then would be the difference between his/her annual income and the standard deduction associated with his/her filing status.\n",
    "\n",
    "Define a **python function** called **taxable** that gets one's **annual income** and his/her **filing status** as arguments and returns his/her **taxable income**, considering the following standard deductions:\n",
    "\n",
    "<br> Standard deductions by filing status:\n",
    " <br>*single: 12900*\n",
    " <br>*married: 25900*\n",
    " <br>*head of household: 19400*\n",
    "    "
   ]
  },
  {
   "cell_type": "code",
   "execution_count": null,
   "metadata": {},
   "outputs": [],
   "source": []
  },
  {
   "cell_type": "markdown",
   "metadata": {},
   "source": [
    "## Problem 3.2 (4pts)\n",
    "\n",
    "Define another python function called **taxcalc** that gets one's taxable income as input and returns his/her tax amount, according to the following tax rates:\n",
    "\n",
    "<br> Tax rates by taxable income:\n",
    "<br> *below 50k: 10%\n",
    "<br> between 50k-80k: 22%\n",
    "<br> above 80k: 28%*"
   ]
  },
  {
   "cell_type": "code",
   "execution_count": null,
   "metadata": {},
   "outputs": [],
   "source": []
  },
  {
   "cell_type": "markdown",
   "metadata": {},
   "source": [
    "## Problem 3.3 (3 pts)\n",
    "\n",
    "Now write a program that prompts the user to enter his/her annual income and filing status, then by calling the functions defined in sections 3.1 and 3.2 calculate and output the taxable income and tax amount of the user."
   ]
  },
  {
   "cell_type": "code",
   "execution_count": null,
   "metadata": {},
   "outputs": [],
   "source": []
  },
  {
   "cell_type": "code",
   "execution_count": null,
   "metadata": {},
   "outputs": [],
   "source": []
  }
 ],
 "metadata": {
  "kernelspec": {
   "display_name": "Python 3 (ipykernel)",
   "language": "python",
   "name": "python3"
  },
  "language_info": {
   "codemirror_mode": {
    "name": "ipython",
    "version": 3
   },
   "file_extension": ".py",
   "mimetype": "text/x-python",
   "name": "python",
   "nbconvert_exporter": "python",
   "pygments_lexer": "ipython3",
   "version": "3.9.13"
  }
 },
 "nbformat": 4,
 "nbformat_minor": 2
}
