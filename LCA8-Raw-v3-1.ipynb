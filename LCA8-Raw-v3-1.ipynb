{
 "cells": [
  {
   "cell_type": "markdown",
   "id": "8ed07df8",
   "metadata": {},
   "source": [
    "## Exercise 1\n",
    "\n",
    "Write a program that prompts the user to enter the name of a mail server txt log file (either mbox.txt or mbox-short.txt), then generates a dictionary to show the number of emails sent on each day(with the day names as its *keys* and the number of emails as the *values*).\n",
    "\n",
    "**Note:** the day of each email transaction is contained in the line beginning with *\"From \"* in its corresponding block. Check out those lines to identify the pattern.\n",
    "\n",
    "<br>Example:\n",
    "<br>Enter a file name: mbox-short.txt\n",
    "<br>{'Fri': 20, 'Thu': 6, 'Sat': 1}"
   ]
  },
  {
   "cell_type": "code",
   "execution_count": null,
   "id": "fc62f564",
   "metadata": {},
   "outputs": [],
   "source": []
  },
  {
   "cell_type": "markdown",
   "id": "e8df4b35",
   "metadata": {},
   "source": [
    "## Exercise 2\n",
    "\n",
    "Download the text file 'encryption.txt' from Canvas.\n",
    "<br>Each line of the file contains a letter from alphabets and a special character assigned to that (separated by comma) (e.g., a,@). Write a program that reads through the file and creates a dictionary with letters as the keys and special characters as the values.\n",
    "<br>Then prompt the user to enter a secret text! and show him/her the encrypted version of the text by replacing each letter with its corresponding special character from the dictionary. Make sure to convert the user's input to lowercase letters.\n",
    "\n",
    "Example:\n",
    "<br>Enter a secret: I am the one who broke the TV screen but my dad thinks our dog did it\n",
    "<br>}`@]`.41`6{1`346`%|691`.41`./`5!|11{`%(.`]>`&@&`.4}{95`6(|`&60`&}&`}."
   ]
  },
  {
   "cell_type": "code",
   "execution_count": null,
   "id": "a03e6b4e",
   "metadata": {},
   "outputs": [],
   "source": []
  },
  {
   "cell_type": "markdown",
   "id": "ba08fced",
   "metadata": {},
   "source": [
    "## Assignment 1\n",
    "\n",
    "Extend the program from Exercise 1 such that in addition to the file name, we prompt the user to enter a desired day name (e.g., Friday), then instead of printing the entire daycounts dictionary only show the user the number of emails for the requested day.\n",
    "\n",
    "<br> Example 1:\n",
    "<br> Enter a file name: mbox-short.txt\n",
    "<br> Enter a day name: Friday\n",
    "<br> The number of emails transacted during a Friday in the mbox-short.txt log file is: 20\n",
    "\n",
    "<br> Example 2:\n",
    "<br> Enter a file name: mbox-short.txt\n",
    "<br> Enter a day name: Monday\n",
    "<br> The number of emails transacted during a Monday in the mbox-short.txt log file is: 0"
   ]
  },
  {
   "cell_type": "code",
   "execution_count": null,
   "id": "6b952087",
   "metadata": {},
   "outputs": [],
   "source": []
  },
  {
   "cell_type": "markdown",
   "id": "9cc4cd0c",
   "metadata": {},
   "source": [
    "## Assignment 2\n",
    "\n",
    "The following script takes the *codes* dictionary we created in Exercise 2 and converts that to a new dictionary called *newcodes* where the keys and values are swapped. (run it and see the result)"
   ]
  },
  {
   "cell_type": "code",
   "execution_count": null,
   "id": "1c8859ca",
   "metadata": {},
   "outputs": [],
   "source": [
    "#swapping the keys and values of the dictionary \"codes\" (do not change the code in this box, just run it)\n",
    "newcodes={}\n",
    "for key in codes:\n",
    "    newcodes[codes[key]]= key\n",
    "    \n",
    "print(newcodes)"
   ]
  },
  {
   "cell_type": "markdown",
   "id": "0d53058e",
   "metadata": {},
   "source": [
    "Now in the following code cell write a program that uses the *newcodes* dictionary to decrypt the following encrypted text: \n",
    "<br>066&\\`.4}{05\\`.@91\\`.}]1"
   ]
  },
  {
   "cell_type": "code",
   "execution_count": null,
   "id": "5bb45ead",
   "metadata": {},
   "outputs": [],
   "source": []
  }
 ],
 "metadata": {
  "kernelspec": {
   "display_name": "Python 3 (ipykernel)",
   "language": "python",
   "name": "python3"
  },
  "language_info": {
   "codemirror_mode": {
    "name": "ipython",
    "version": 3
   },
   "file_extension": ".py",
   "mimetype": "text/x-python",
   "name": "python",
   "nbconvert_exporter": "python",
   "pygments_lexer": "ipython3",
   "version": "3.12.7"
  }
 },
 "nbformat": 4,
 "nbformat_minor": 5
}
