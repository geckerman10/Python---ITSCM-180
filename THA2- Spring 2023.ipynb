{
 "cells": [
  {
   "attachments": {},
   "cell_type": "markdown",
   "metadata": {},
   "source": [
    "## Problem 1\n",
    "\n",
    "A project manager needs a python program using which he can enter the expenses related to the two projects that he manages (P1 & P2) from the paper invoices and at the end receives the total expenditute, as well as average per-invoice expense for each project separately. \n",
    "\n",
    "For each invoice, he wants to enter a single input containing the project ID (P1 or P2) and the expense amount in USD, separated by a semicolon (e.g., P1;128.55). Once he is done with all the invoices he wants to enter the word 'done' and immediately see the desired outputs on the screen.\n",
    "\n",
    "Example:\n",
    "<br>Enter the project ID and expense for the current invoice: p1;1055.11\n",
    "<br>Enter the project ID and expense for the current invoice: P2;779.09\n",
    "<br>Enter the project ID and expense for the current invoice: p2;110\n",
    "<br>Enter the project ID and expense for the current invoice: P1;507\n",
    "<br>Enter the project ID and expense for the current invoice: p2;1366.40\n",
    "<br>Enter the project ID and expense for the current invoice: done\n",
    "\n",
    "<br>Total expenditure on Project 1 is 1562.11 . That is 781.06 per invoice on average\n",
    "<br>Total expenditure on Project 2 is 2255.49 . That is 751.83 per invoice on average"
   ]
  },
  {
   "cell_type": "code",
   "execution_count": null,
   "metadata": {},
   "outputs": [],
   "source": []
  },
  {
   "cell_type": "markdown",
   "metadata": {},
   "source": [
    "## Problem 2.1\n",
    "\n",
    "Download the text file Tweets.txt from the URL provided below and save it in your python directory folder:\n",
    "https://bit.ly/360oAwY\n",
    "<br><br>The file includes 4993 tweets containing the keyword 'election'. Each tweet is represented in a separate line.\n",
    "<br>Write a program to open the file and read through its lines, then only if a tweet includes a hashtag (a term beginning by the # character) extracts the hashtag term and prints it out. For simplicity, let's assume that each tweet can include only 1 hashtag (if any), so in case of multiple hashtags in a tweet we are only interested in extracting the first one from left.\n",
    "\n",
    "<br>**Note**: since some tweets may include irregular characters(e.g., emojis), use the term **encoding=\"utf-8\"** as the third argument in the **open** function, separated by comma from the text file name and opening mode. Otherwise you may get error."
   ]
  },
  {
   "cell_type": "code",
   "execution_count": null,
   "metadata": {},
   "outputs": [],
   "source": []
  },
  {
   "cell_type": "markdown",
   "metadata": {},
   "source": [
    "## Problem 2.2\n",
    "\n",
    "Modify your code in problem 2.1: this time instead of printing out the hashtag words, write and save them to an output text file. **Use your_last_name.txt as the name for the output txt file**.\n",
    "<br>**Note**: Make sure that each hashtag would appear in a separate line in the output file."
   ]
  },
  {
   "cell_type": "code",
   "execution_count": null,
   "metadata": {},
   "outputs": [],
   "source": []
  },
  {
   "cell_type": "markdown",
   "metadata": {},
   "source": [
    "## Problem 3\n",
    "\n",
    "Write a python loop that goes through the following list of words, then for each word if it is longer than 4 characters, creates a new word out of that by concatenating the first two and the last two characters of it. Also, if the word length is 4 characters or less, print it out as is. Make sure that all output words are completely in lowercase letters.\n",
    "<br>words= ['Mobile','Good Morning','LAMP', 'Smart Things!', 'monty python', 'look']\n",
    "\n",
    "<br> the expected output:\n",
    "<br>mole\n",
    "<br>gong\n",
    "<br>lamp\n",
    "<br>sms!\n",
    "<br>moon\n",
    "<br>look"
   ]
  },
  {
   "cell_type": "code",
   "execution_count": null,
   "metadata": {},
   "outputs": [],
   "source": []
  }
 ],
 "metadata": {
  "kernelspec": {
   "display_name": "Python 3 (ipykernel)",
   "language": "python",
   "name": "python3"
  },
  "language_info": {
   "codemirror_mode": {
    "name": "ipython",
    "version": 3
   },
   "file_extension": ".py",
   "mimetype": "text/x-python",
   "name": "python",
   "nbconvert_exporter": "python",
   "pygments_lexer": "ipython3",
   "version": "3.9.13"
  }
 },
 "nbformat": 4,
 "nbformat_minor": 4
}
