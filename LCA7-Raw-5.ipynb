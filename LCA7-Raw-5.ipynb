{
 "cells": [
  {
   "cell_type": "markdown",
   "metadata": {},
   "source": [
    "## Exercise 1\n",
    "\n",
    "Rewrite the following program that we wrote in LCA 5 for extracting the **host** domain from a string in the following format:\n",
    "<br>*From stephen.marquard@**uct.ac.za** Sat Jan  5 09:14:16 2008.*\n",
    "\n",
    "<br>This time use the **split()** method of python strings library for this purpose."
   ]
  },
  {
   "cell_type": "code",
   "execution_count": null,
   "metadata": {},
   "outputs": [],
   "source": [
    "line= input('First line of email: ')\n",
    "\n",
    "#Step1: finding the position of @\n",
    "atpos= line.find('@')\n",
    "\n",
    "#Step2:finding the position of the first space after the @ \n",
    "spacepos= line.find(' ',atpos+1)\n",
    "\n",
    "#Step3: slicing the string from @ through the first space after that\n",
    "host= line[atpos+1:spacepos]\n",
    "\n",
    "print('host:', host)"
   ]
  },
  {
   "cell_type": "code",
   "execution_count": null,
   "metadata": {
    "scrolled": true
   },
   "outputs": [],
   "source": []
  },
  {
   "cell_type": "markdown",
   "metadata": {},
   "source": [
    "## Exercise 2\n",
    "\n",
    "Download a copy of the file www.py4e.com/code3/romeo.txt. Write a program to extract a glossary of all the words existing in this text file (without duplicates), then sorts them alphabetically and prints out the sorted glossary."
   ]
  },
  {
   "cell_type": "code",
   "execution_count": null,
   "metadata": {},
   "outputs": [],
   "source": []
  },
  {
   "cell_type": "markdown",
   "metadata": {},
   "source": [
    "## Assignment 1\n",
    "\n",
    "Write a Python program that takes a line of text in the following format and extracts the user’s name and the login date from it:\n",
    "<br> *User: alice.wonderland@example.com | Login Time: Mon Feb 12 2023 10:45:30*\n",
    "\n",
    "Your program should extract and display:\n",
    "<br>- The user’s name (*alice.wonderland* in this example)\n",
    "<br>- The login date (*Feb 12 2023* in this example)\n",
    "\n",
    "**Hint**: Use the split() method to break down the text into parts and identify the relevant information."
   ]
  },
  {
   "cell_type": "code",
   "execution_count": null,
   "metadata": {},
   "outputs": [],
   "source": []
  },
  {
   "cell_type": "markdown",
   "metadata": {},
   "source": [
    "## Assignment 2\n",
    "\n",
    "Write a program that opens and reads through the lines of the *mbox-short.txt* text file. \n",
    "<br>If a line starts with the term *'Author:'* (not author:) it contains the email address of the author of message (e.g., Author: zqian@umich.edu)\n",
    "<br>The goal is to create an address book (python list) including the unique email addresses (i.e., no duplicates) of all message authors. \n",
    "<br>In the end, sort all unique email addresses in the address book alphabetically and print that out.\n",
    "\n",
    "<br>Expected output:\n",
    "<br>['antranig@caret.cam.ac.uk', 'cwen@iupui.edu', 'david.horwitz@uct.ac.za', 'gopal.ramasammycook@gmail.com', 'gsilver@umich.edu', 'louis@media.berkeley.edu', 'ray@media.berkeley.edu', 'rjlowe@iupui.edu', 'stephen.marquard@uct.ac.za', 'wagnermr@iupui.edu', 'zqian@umich.edu']"
   ]
  },
  {
   "cell_type": "code",
   "execution_count": null,
   "metadata": {},
   "outputs": [],
   "source": []
  }
 ],
 "metadata": {
  "kernelspec": {
   "display_name": "Python 3 (ipykernel)",
   "language": "python",
   "name": "python3"
  },
  "language_info": {
   "codemirror_mode": {
    "name": "ipython",
    "version": 3
   },
   "file_extension": ".py",
   "mimetype": "text/x-python",
   "name": "python",
   "nbconvert_exporter": "python",
   "pygments_lexer": "ipython3",
   "version": "3.12.4"
  }
 },
 "nbformat": 4,
 "nbformat_minor": 4
}
