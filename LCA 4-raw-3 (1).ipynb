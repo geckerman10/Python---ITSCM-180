{
 "cells": [
  {
   "cell_type": "markdown",
   "metadata": {},
   "source": [
    "## Exercise 1\n",
    "Write a program that keeps getting the temperature readings (in °F) from a user until the user enters any negative number, then calculates and displays the number of dangerously high temperatures (above 100°F) as well as the average temperature recorded.\n",
    "\n",
    "Example:\n",
    "<br>Enter a temperature reading:102\n",
    "<br>Enter a temperature reading: 95\n",
    "<br>Enter a temperature reading: 99.6\n",
    "<br>Enter a temperature reading: 101.5\n",
    "<br>Enter a temperature reading: -124\n",
    "<br>Total number of dangerously high temperatures: 2\n",
    "<br>Average temperature recorded: 99.53°F\n"
   ]
  },
  {
   "cell_type": "code",
   "execution_count": 59,
   "metadata": {},
   "outputs": [
    {
     "name": "stdin",
     "output_type": "stream",
     "text": [
      "Enter a temperature reading in Fahrenheit: 102\n",
      "Enter a temperature reading in Fahrenheit: 95\n",
      "Enter a temperature reading in Fahrenheit: 99.6\n",
      "Enter a temperature reading in Fahrenheit: 101.5\n",
      "Enter a temperature reading in Fahrenheit: -2\n"
     ]
    },
    {
     "name": "stdout",
     "output_type": "stream",
     "text": [
      "Total number of dangrously high tempertatures: 2\n",
      "Average temperature recourded; 99.53\n"
     ]
    }
   ],
   "source": [
    "#initialize placeholders\n",
    "dangerousdays=0\n",
    "count=0\n",
    "total=0\n",
    "#loop to ger inputs and add values\n",
    "while True:\n",
    "    temp=float(input('Enter a temperature reading in Fahrenheit:'))\n",
    "    if temp<0:\n",
    "        break\n",
    "    if temp>100:\n",
    "        dangerousdays+=1\n",
    "    count+=1\n",
    "    total+=temp\n",
    "#print output to users\n",
    "print('Total number of dangrously high tempertatures:',dangerousdays)\n",
    "print('Average temperature recourded;',round((total/count),2))"
   ]
  },
  {
   "cell_type": "markdown",
   "metadata": {},
   "source": [
    "## Exercise 2\n",
    "\n",
    "The following numbers represent the distances (in miles) driven on the last 10 delivery trips by a delivery driver: \n",
    "<br>[12.5, 18, 22.3, 15, 30.1, 25.5, 19.2, 17, 28, 21.7]\n",
    "<br> Suppose the delivery company reimburses drivers 75 cents per mile for trips over 20 miles, and 90 cents per mile for shorter trips.\n",
    "<br> Write a program that (using a loop) calculates and shows the total reimbursement amount for this set of trips."
   ]
  },
  {
   "cell_type": "code",
   "execution_count": 77,
   "metadata": {},
   "outputs": [
    {
     "name": "stdout",
     "output_type": "stream",
     "text": [
      "The total reimbursement is 169.23 USD\n"
     ]
    }
   ],
   "source": [
    "#initialze the placeholder for total pay\n",
    "total=0\n",
    "trips=[12.5, 18, 22.3, 15, 30.1, 25.5, 19.2, 17, 28, 21.7]\n",
    "#write a loop for processing payment for each trip\n",
    "for trip in trips:\n",
    "    if trip<20:\n",
    "        pay=trip*0.9\n",
    "    elif trip>20:\n",
    "        pay=trip*0.75\n",
    "    total=total+pay\n",
    "#print out total reimbursement\n",
    "print('The total reimbursement is',round(total,2),'USD')"
   ]
  },
  {
   "cell_type": "markdown",
   "metadata": {},
   "source": [
    "## Assignment 1\n",
    "\n",
    "Write a program that keeps getting the baggage weight of passengers boarded on a plane from user until the user enters **-1**, then calculates and shows the number of overweight baggages(>50 lbs) as well as the total weight of all baggages.  \n",
    "<br>\n",
    "<br>Example:\n",
    "<br>Enter a baggage weight:52\n",
    "<br>Enter a baggage weight:48.5\n",
    "<br>Enter a baggage weight:29\n",
    "<br>Enter a baggage weight:55.2\n",
    "<br>Enter a baggage weight:-1\n",
    "<br>Total number of overweight baggages: 2\n",
    "<br>Total weight of all baggages on plane: 184.7"
   ]
  },
  {
   "cell_type": "code",
   "execution_count": 57,
   "metadata": {},
   "outputs": [
    {
     "name": "stdin",
     "output_type": "stream",
     "text": [
      "Enter a baggage weight: 52\n",
      "Enter a baggage weight: 48.5\n",
      "Enter a baggage weight: 29\n",
      "Enter a baggage weight: 55.2\n",
      "Enter a baggage weight: -1\n"
     ]
    },
    {
     "name": "stdout",
     "output_type": "stream",
     "text": [
      "Total number of overweight baggages: 2\n",
      "Total weight of all baggages on plane: 184.7\n"
     ]
    }
   ],
   "source": [
    "#set variables\n",
    "count=0\n",
    "total=0\n",
    "while True:\n",
    "    #get weight\n",
    "    weight=float(input(\"Enter a baggage weight:\"))\n",
    "    #add break statment\n",
    "    if weight==-1:\n",
    "        break\n",
    "    #add overweight counter\n",
    "    elif weight>50:\n",
    "        count+=1\n",
    "    #add weight to sum\n",
    "    total=total+weight\n",
    "#print to user\n",
    "print('Total number of overweight baggages:',count)\n",
    "print('Total weight of all baggages on plane:',total)"
   ]
  },
  {
   "cell_type": "markdown",
   "metadata": {},
   "source": [
    "## Assignment 2\n",
    "\n",
    "The following numbers indicate the 10 most recent transactions on a credit card:\n",
    "<br>[28, 37.5, 44.2, 39.9, 56.9, 45.5, 37, 47.2, 38.1, 46.6]\n",
    "<br>Suppose that the bank charges a %1.5 transaction fee only on transactions greater than 40 dollars, but smaller transactions are free of charge.\n",
    "<br> Write a program that (using a loop) calculates and shows total transaction fees that will be charged for this set of transactions.\n",
    "\n",
    "<br>(Answer: 3.61)"
   ]
  },
  {
   "cell_type": "code",
   "execution_count": 55,
   "metadata": {},
   "outputs": [
    {
     "name": "stdout",
     "output_type": "stream",
     "text": [
      "The transaction fees total to 3.61\n"
     ]
    }
   ],
   "source": [
    "#enter values\n",
    "charges=[28, 37.5, 44.2, 39.9, 56.9, 45.5, 37, 47.2, 38.1, 46.6]\n",
    "total=0\n",
    "#get values over 40, calculate fees, and total them\n",
    "for charge in charges:\n",
    "    if charge>40:\n",
    "        fee=charge*0.015\n",
    "        total=total+fee\n",
    "#round total and print output\n",
    "total=round(total,2)\n",
    "print('The transaction fees total to',total)"
   ]
  }
 ],
 "metadata": {
  "kernelspec": {
   "display_name": "Python 3 (ipykernel)",
   "language": "python",
   "name": "python3"
  },
  "language_info": {
   "codemirror_mode": {
    "name": "ipython",
    "version": 3
   },
   "file_extension": ".py",
   "mimetype": "text/x-python",
   "name": "python",
   "nbconvert_exporter": "python",
   "pygments_lexer": "ipython3",
   "version": "3.12.4"
  }
 },
 "nbformat": 4,
 "nbformat_minor": 4
}
