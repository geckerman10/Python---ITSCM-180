{
 "cells": [
  {
   "cell_type": "markdown",
   "metadata": {},
   "source": [
    "## Exercise 1\n",
    "\n",
    "Write a program that gets the first line of an email message and, based on the <font color=blue>host domain</font> of the sender's address, determines whether it is an Internal or External email:\n",
    "<br>- If the domain is uww.edu it is considered 'Internal Email', otherwise print the message 'External Email' on the screen.\n",
    "<br><br>Example1: \n",
    "<br>Paste the first line of email here: From stephen.marquard@<font color=blue>**uct.ac.za**</font> Sat Jan  5 2019 09:14:16\n",
    "<br>host: uct.ac.za\n",
    "<br>External Email\n",
    "<br><br>Example2: \n",
    "<br>Paste the first line of email here: From davazdab@<font color=blue>**uww.edu**</font> Sun Mar 23 2020 19:24:46\n",
    "<br>host: uww.edu\n",
    "<br>Internal Email"
   ]
  },
  {
   "cell_type": "code",
   "execution_count": 16,
   "metadata": {},
   "outputs": [
    {
     "name": "stdin",
     "output_type": "stream",
     "text": [
      "Paste the first line of email here; Paste the first line of email here: From stephen.marquard@uct.ac.za Sat Jan 5 2019 09:14:1\n"
     ]
    },
    {
     "name": "stdout",
     "output_type": "stream",
     "text": [
      "Domain Name is uct.ac.za\n",
      "External Email\n"
     ]
    }
   ],
   "source": [
    "#get first line of email\n",
    "line=input('Paste the first line of email here;')\n",
    "#find the @\n",
    "atpos=line.find('@')\n",
    "#find the space after @\n",
    "spacepos=line.find(' ',atpos)\n",
    "#slice the string\n",
    "host=line[atpos+1:spacepos]\n",
    "print('Domain Name is',host)\n",
    "#determine if email is internal or external\n",
    "if host.lower()=='uww.edu':\n",
    "    print('Internal Email')\n",
    "else:\n",
    "    print('External Email')"
   ]
  },
  {
   "cell_type": "markdown",
   "metadata": {},
   "source": [
    "## Exercise 2\n",
    "\n",
    "Write a Python program that iteratively accepts 5 trip distances from the user. Each distance can be entered in kilometers (ending with \"km\") or miles (ending with \"mi\"). At the end, the program should convert all distances to miles and print the total distance in miles.\n",
    "\n",
    "Use the conversion:\n",
    "1 kilometer = 0.62 miles\n",
    "\n",
    "Example:\n",
    "<br>Enter a trip distance(e.g., 10km or 5mi): 10.5km\n",
    "<br>Enter a trip distance(e.g., 10km or 5mi): 6mi\n",
    "<br>Enter a trip distance(e.g., 10km or 5mi): 15km\n",
    "<br>Enter a trip distance(e.g., 10km or 5mi): 8km\n",
    "<br>Enter a trip distance(e.g., 10km or 5mi): 3.5mi\n",
    "<br>Total distance in miles is: 30.27"
   ]
  },
  {
   "cell_type": "code",
   "execution_count": 20,
   "metadata": {},
   "outputs": [
    {
     "name": "stdin",
     "output_type": "stream",
     "text": [
      "Enter a trip distance 10.5km\n",
      "Enter a trip distance 6mi\n",
      "Enter a trip distance 15km\n",
      "Enter a trip distance 8km\n",
      "Enter a trip distance 3.5mi\n"
     ]
    },
    {
     "name": "stdout",
     "output_type": "stream",
     "text": [
      "Total distance in miles is: 30.270000000000003\n"
     ]
    }
   ],
   "source": [
    "#placeholder for distance\n",
    "totaldistancemiles=0\n",
    "\n",
    "#loop to accept 5 distances\n",
    "for i in range(5):\n",
    "    trip=input('Enter a trip distance')\n",
    "\n",
    "    #check if mi or km\n",
    "    if trip.endswith('km'):\n",
    "        distancekm=float(trip[:-2])\n",
    "        distancemiles=distancekm*0.62\n",
    "    elif trip.endswith('mi'):\n",
    "        distancemiles=float(trip[:-2])\n",
    "    else:\n",
    "        print('Invalid Input')\n",
    "        continue\n",
    "    totaldistancemiles+=distancemiles\n",
    "print('Total distance in miles is:',totaldistancemiles)"
   ]
  },
  {
   "cell_type": "markdown",
   "metadata": {},
   "source": [
    "## Assignment 1\n",
    "\n",
    "Write a program that prompts the user to enter his/her first name, last name, and year of birth in a single input (in the format: **fn ln;yyyy**), then calculates the age and show it to him/her in the following format (see Example).\n",
    "<br>**Note:** Make sure to **capitalize** the first name for using it in the output message. \n",
    "<br>**Hint:** Review Exercise 1!\n",
    "<br><br>Example:\n",
    "<br>Enter your first name, last name, and birth year (in format fn;ln/by): ALEX SMITH;1994\n",
    "<br>Hi  Alex , you are  30 years old!"
   ]
  },
  {
   "cell_type": "code",
   "execution_count": 7,
   "metadata": {},
   "outputs": [
    {
     "name": "stdin",
     "output_type": "stream",
     "text": [
      "Enter your first and last name and birthdate (ex.Alex Smith;1994): Alex Smith;1994\n"
     ]
    },
    {
     "name": "stdout",
     "output_type": "stream",
     "text": [
      "Hi Alex you are 30 year old\n"
     ]
    }
   ],
   "source": [
    "nameandbirth=input('Enter your first and last name and birthdate (ex.Alex Smith;1994):')\n",
    "birthyear=nameandbirth[-4:]\n",
    "age=2024-int(birthyear)\n",
    "length=nameandbirth.find(' ')\n",
    "name=nameandbirth[:length]\n",
    "name=name.capitalize()\n",
    "print('Hi',name,'you are',age,'year old')"
   ]
  },
  {
   "cell_type": "markdown",
   "metadata": {},
   "source": [
    "## Assignment 2\n",
    "\n",
    "Write a Python program that prompts the user to enter a 10-digit phone number (in the format \"1234567890\"). The program should format the phone number in the standard business format: \"(123)456-7890\".\n",
    "\n",
    "Note: Your program should check if the user entry contains exactly 10 digit characters before converting it to the standard format. (hint: use the [isdigit()](https://www.geeksforgeeks.org/python-string-isdigit-method/) method to check if the input characters are digits). \n",
    "\n",
    "Example:\n",
    "<br>Enter a phone number: 2624721569\n",
    "<br>Formatted phone number: (262)472-1569\n",
    "\n",
    "Example 2:\n",
    "<br>Enter a phone number: 262-472-1569\n",
    "<br>Invalid input. Please enter a 10-digit number."
   ]
  },
  {
   "cell_type": "code",
   "execution_count": 31,
   "metadata": {},
   "outputs": [
    {
     "name": "stdin",
     "output_type": "stream",
     "text": [
      "Input a 10 digit phone number (ex: 0123456789) 2624721569\n"
     ]
    },
    {
     "name": "stdout",
     "output_type": "stream",
     "text": [
      "(262)472-1569\n"
     ]
    }
   ],
   "source": [
    "phone=input('Input a 10 digit phone number (ex: 0123456789)')\n",
    "if len(phone)!=10 or phone.isdigit()==False:\n",
    "    print('Invalid Input')\n",
    "else:\n",
    "    first=phone[0:3]\n",
    "    middle=phone[3:6]\n",
    "    end=phone[6:10]\n",
    "    print('('+first+')'+middle+'-'+end)"
   ]
  }
 ],
 "metadata": {
  "kernelspec": {
   "display_name": "Python 3 (ipykernel)",
   "language": "python",
   "name": "python3"
  },
  "language_info": {
   "codemirror_mode": {
    "name": "ipython",
    "version": 3
   },
   "file_extension": ".py",
   "mimetype": "text/x-python",
   "name": "python",
   "nbconvert_exporter": "python",
   "pygments_lexer": "ipython3",
   "version": "3.12.4"
  }
 },
 "nbformat": 4,
 "nbformat_minor": 4
}
