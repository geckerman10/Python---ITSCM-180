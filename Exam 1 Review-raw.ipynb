{
 "cells": [
  {
   "cell_type": "markdown",
   "id": "c7102983-21b8-49ef-811d-a08937df68f5",
   "metadata": {},
   "source": [
    "### Exercise 1\n",
    "\n",
    "Define a Python function called `insurance_premium` that calculates and returns the monthly insurance premium for a customer based on their age, and health status, considering the following rules:\n",
    "\n",
    "1. Customers under 18 years old, regardless of their health status, should be charged \\$80.\n",
    "2. If the customer is in poor health, their base premium is \\$300.\n",
    "3. If the customer is in good health and under 40 years old, their base premium is \\$150.\n",
    "4. If the customer is in good health and 40 years or older, their base premium is \\$200.\n"
   ]
  },
  {
   "cell_type": "code",
   "execution_count": null,
   "id": "b9cf8710-72a9-4daf-9230-7ca1a14dcfd0",
   "metadata": {},
   "outputs": [],
   "source": []
  },
  {
   "cell_type": "markdown",
   "id": "d57a326c-1f37-4631-b5fc-64653d7db731",
   "metadata": {},
   "source": [
    "## Exercise 2\n",
    "\n",
    "Write a program that prompts a user to enter their age, health status (poor or good), and smoking habit (smoker or non-smoker). Then first call the `insurance_premium` function to calculate the base premium for that user. Following that, adjust the base premium by adding 50 USD if the customer is a smoker and deducting 30 USD if he/she is a non-smoker. In the end, show the adjusted premium to the user. \n",
    "\n",
    "Make sure that your code handles any errors caused by invalid inputs entered by the users.\n",
    "\n",
    "Example:\n",
    "<br> Enter your age: 28\n",
    "<br> Enter your health status (poor or good): good\n",
    "<br> Enter your smoking habit (smoker or non-smoker): smoker\n",
    "<br> Your premium would be 200 USD\n",
    "\n",
    "Example 2:\n",
    "<br> Enter your age: 25 years old\n",
    "<br> Enter your health status (poor or good): good\n",
    "<br> Only numeric characters are allowed for age. Please try again.\n"
   ]
  },
  {
   "cell_type": "code",
   "execution_count": null,
   "id": "4f497dfb-2c18-4f5f-aca5-62248a6486a0",
   "metadata": {},
   "outputs": [],
   "source": []
  }
 ],
 "metadata": {
  "kernelspec": {
   "display_name": "Python 3 (ipykernel)",
   "language": "python",
   "name": "python3"
  },
  "language_info": {
   "codemirror_mode": {
    "name": "ipython",
    "version": 3
   },
   "file_extension": ".py",
   "mimetype": "text/x-python",
   "name": "python",
   "nbconvert_exporter": "python",
   "pygments_lexer": "ipython3",
   "version": "3.12.4"
  }
 },
 "nbformat": 4,
 "nbformat_minor": 5
}
